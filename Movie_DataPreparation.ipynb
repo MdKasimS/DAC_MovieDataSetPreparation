{
 "cells": [
  {
   "cell_type": "code",
   "execution_count": 17,
   "metadata": {},
   "outputs": [],
   "source": [
    "import os\n",
    "import pandas as pd\n",
    "import numpy as np\n",
    "import json"
   ]
  },
  {
   "attachments": {},
   "cell_type": "markdown",
   "metadata": {},
   "source": [
    "Loading Actual Data Sheet From DataSet And Performing Analysis"
   ]
  },
  {
   "cell_type": "code",
   "execution_count": 18,
   "metadata": {},
   "outputs": [
    {
     "name": "stderr",
     "output_type": "stream",
     "text": [
      "C:\\Users\\Mo Kasim\\AppData\\Local\\Temp\\ipykernel_21240\\1538011337.py:1: DtypeWarning: Columns (10) have mixed types. Specify dtype option on import or set low_memory=False.\n",
      "  metadata = pd.read_csv(\"movies_metadata.csv\")\n"
     ]
    }
   ],
   "source": [
    "metadata = pd.read_csv(\"movies_metadata.csv\")"
   ]
  },
  {
   "cell_type": "code",
   "execution_count": 19,
   "metadata": {},
   "outputs": [
    {
     "data": {
      "text/html": [
       "<div>\n",
       "<style scoped>\n",
       "    .dataframe tbody tr th:only-of-type {\n",
       "        vertical-align: middle;\n",
       "    }\n",
       "\n",
       "    .dataframe tbody tr th {\n",
       "        vertical-align: top;\n",
       "    }\n",
       "\n",
       "    .dataframe thead th {\n",
       "        text-align: right;\n",
       "    }\n",
       "</style>\n",
       "<table border=\"1\" class=\"dataframe\">\n",
       "  <thead>\n",
       "    <tr style=\"text-align: right;\">\n",
       "      <th></th>\n",
       "      <th>adult</th>\n",
       "      <th>belongs_to_collection</th>\n",
       "      <th>budget</th>\n",
       "      <th>genres</th>\n",
       "      <th>homepage</th>\n",
       "      <th>id</th>\n",
       "      <th>imdb_id</th>\n",
       "      <th>original_language</th>\n",
       "      <th>original_title</th>\n",
       "      <th>overview</th>\n",
       "      <th>...</th>\n",
       "      <th>release_date</th>\n",
       "      <th>revenue</th>\n",
       "      <th>runtime</th>\n",
       "      <th>spoken_languages</th>\n",
       "      <th>status</th>\n",
       "      <th>tagline</th>\n",
       "      <th>title</th>\n",
       "      <th>video</th>\n",
       "      <th>vote_average</th>\n",
       "      <th>vote_count</th>\n",
       "    </tr>\n",
       "  </thead>\n",
       "  <tbody>\n",
       "    <tr>\n",
       "      <th>0</th>\n",
       "      <td>False</td>\n",
       "      <td>{'id': 10194, 'name': 'Toy Story Collection', ...</td>\n",
       "      <td>30000000</td>\n",
       "      <td>[{'id': 16, 'name': 'Animation'}, {'id': 35, '...</td>\n",
       "      <td>http://toystory.disney.com/toy-story</td>\n",
       "      <td>862</td>\n",
       "      <td>tt0114709</td>\n",
       "      <td>en</td>\n",
       "      <td>Toy Story</td>\n",
       "      <td>Led by Woody, Andy's toys live happily in his ...</td>\n",
       "      <td>...</td>\n",
       "      <td>1995-10-30</td>\n",
       "      <td>373554033.0</td>\n",
       "      <td>81.0</td>\n",
       "      <td>[{'iso_639_1': 'en', 'name': 'English'}]</td>\n",
       "      <td>Released</td>\n",
       "      <td>NaN</td>\n",
       "      <td>Toy Story</td>\n",
       "      <td>False</td>\n",
       "      <td>7.7</td>\n",
       "      <td>5415.0</td>\n",
       "    </tr>\n",
       "    <tr>\n",
       "      <th>1</th>\n",
       "      <td>False</td>\n",
       "      <td>NaN</td>\n",
       "      <td>65000000</td>\n",
       "      <td>[{'id': 12, 'name': 'Adventure'}, {'id': 14, '...</td>\n",
       "      <td>NaN</td>\n",
       "      <td>8844</td>\n",
       "      <td>tt0113497</td>\n",
       "      <td>en</td>\n",
       "      <td>Jumanji</td>\n",
       "      <td>When siblings Judy and Peter discover an encha...</td>\n",
       "      <td>...</td>\n",
       "      <td>1995-12-15</td>\n",
       "      <td>262797249.0</td>\n",
       "      <td>104.0</td>\n",
       "      <td>[{'iso_639_1': 'en', 'name': 'English'}, {'iso...</td>\n",
       "      <td>Released</td>\n",
       "      <td>Roll the dice and unleash the excitement!</td>\n",
       "      <td>Jumanji</td>\n",
       "      <td>False</td>\n",
       "      <td>6.9</td>\n",
       "      <td>2413.0</td>\n",
       "    </tr>\n",
       "  </tbody>\n",
       "</table>\n",
       "<p>2 rows × 24 columns</p>\n",
       "</div>"
      ],
      "text/plain": [
       "   adult                              belongs_to_collection    budget  \\\n",
       "0  False  {'id': 10194, 'name': 'Toy Story Collection', ...  30000000   \n",
       "1  False                                                NaN  65000000   \n",
       "\n",
       "                                              genres  \\\n",
       "0  [{'id': 16, 'name': 'Animation'}, {'id': 35, '...   \n",
       "1  [{'id': 12, 'name': 'Adventure'}, {'id': 14, '...   \n",
       "\n",
       "                               homepage    id    imdb_id original_language  \\\n",
       "0  http://toystory.disney.com/toy-story   862  tt0114709                en   \n",
       "1                                   NaN  8844  tt0113497                en   \n",
       "\n",
       "  original_title                                           overview  ...  \\\n",
       "0      Toy Story  Led by Woody, Andy's toys live happily in his ...  ...   \n",
       "1        Jumanji  When siblings Judy and Peter discover an encha...  ...   \n",
       "\n",
       "  release_date      revenue runtime  \\\n",
       "0   1995-10-30  373554033.0    81.0   \n",
       "1   1995-12-15  262797249.0   104.0   \n",
       "\n",
       "                                    spoken_languages    status  \\\n",
       "0           [{'iso_639_1': 'en', 'name': 'English'}]  Released   \n",
       "1  [{'iso_639_1': 'en', 'name': 'English'}, {'iso...  Released   \n",
       "\n",
       "                                     tagline      title  video vote_average  \\\n",
       "0                                        NaN  Toy Story  False          7.7   \n",
       "1  Roll the dice and unleash the excitement!    Jumanji  False          6.9   \n",
       "\n",
       "  vote_count  \n",
       "0     5415.0  \n",
       "1     2413.0  \n",
       "\n",
       "[2 rows x 24 columns]"
      ]
     },
     "execution_count": 19,
     "metadata": {},
     "output_type": "execute_result"
    }
   ],
   "source": [
    "metadata.head(2)"
   ]
  },
  {
   "cell_type": "code",
   "execution_count": 20,
   "metadata": {},
   "outputs": [],
   "source": [
    "columnList = metadata.columns"
   ]
  },
  {
   "cell_type": "code",
   "execution_count": 21,
   "metadata": {},
   "outputs": [
    {
     "data": {
      "text/plain": [
       "Index(['adult', 'belongs_to_collection', 'budget', 'genres', 'homepage', 'id',\n",
       "       'imdb_id', 'original_language', 'original_title', 'overview',\n",
       "       'popularity', 'poster_path', 'production_companies',\n",
       "       'production_countries', 'release_date', 'revenue', 'runtime',\n",
       "       'spoken_languages', 'status', 'tagline', 'title', 'video',\n",
       "       'vote_average', 'vote_count'],\n",
       "      dtype='object')"
      ]
     },
     "execution_count": 21,
     "metadata": {},
     "output_type": "execute_result"
    }
   ],
   "source": [
    "columnList"
   ]
  },
  {
   "attachments": {},
   "cell_type": "markdown",
   "metadata": {},
   "source": [
    "Deleting Non Required Columns"
   ]
  },
  {
   "cell_type": "code",
   "execution_count": 22,
   "metadata": {},
   "outputs": [],
   "source": [
    "for i in ['adult', 'belongs_to_collection', 'budget','homepage', 'imdb_id','popularity', 'poster_path', 'production_companies',\n",
    "       'production_countries', 'release_date', 'revenue','spoken_languages', 'status', 'tagline', 'original_title','video',\n",
    "       'vote_average', 'vote_count']:\n",
    "    if i in columnList:\n",
    "        metadata = metadata.drop(i, axis =1)\n",
    "    \"\""
   ]
  },
  {
   "cell_type": "code",
   "execution_count": 23,
   "metadata": {},
   "outputs": [
    {
     "data": {
      "text/html": [
       "<div>\n",
       "<style scoped>\n",
       "    .dataframe tbody tr th:only-of-type {\n",
       "        vertical-align: middle;\n",
       "    }\n",
       "\n",
       "    .dataframe tbody tr th {\n",
       "        vertical-align: top;\n",
       "    }\n",
       "\n",
       "    .dataframe thead th {\n",
       "        text-align: right;\n",
       "    }\n",
       "</style>\n",
       "<table border=\"1\" class=\"dataframe\">\n",
       "  <thead>\n",
       "    <tr style=\"text-align: right;\">\n",
       "      <th></th>\n",
       "      <th>genres</th>\n",
       "      <th>id</th>\n",
       "      <th>original_language</th>\n",
       "      <th>overview</th>\n",
       "      <th>runtime</th>\n",
       "      <th>title</th>\n",
       "    </tr>\n",
       "  </thead>\n",
       "  <tbody>\n",
       "    <tr>\n",
       "      <th>0</th>\n",
       "      <td>[{'id': 16, 'name': 'Animation'}, {'id': 35, '...</td>\n",
       "      <td>862</td>\n",
       "      <td>en</td>\n",
       "      <td>Led by Woody, Andy's toys live happily in his ...</td>\n",
       "      <td>81.0</td>\n",
       "      <td>Toy Story</td>\n",
       "    </tr>\n",
       "    <tr>\n",
       "      <th>1</th>\n",
       "      <td>[{'id': 12, 'name': 'Adventure'}, {'id': 14, '...</td>\n",
       "      <td>8844</td>\n",
       "      <td>en</td>\n",
       "      <td>When siblings Judy and Peter discover an encha...</td>\n",
       "      <td>104.0</td>\n",
       "      <td>Jumanji</td>\n",
       "    </tr>\n",
       "  </tbody>\n",
       "</table>\n",
       "</div>"
      ],
      "text/plain": [
       "                                              genres    id original_language  \\\n",
       "0  [{'id': 16, 'name': 'Animation'}, {'id': 35, '...   862                en   \n",
       "1  [{'id': 12, 'name': 'Adventure'}, {'id': 14, '...  8844                en   \n",
       "\n",
       "                                            overview  runtime      title  \n",
       "0  Led by Woody, Andy's toys live happily in his ...     81.0  Toy Story  \n",
       "1  When siblings Judy and Peter discover an encha...    104.0    Jumanji  "
      ]
     },
     "execution_count": 23,
     "metadata": {},
     "output_type": "execute_result"
    }
   ],
   "source": [
    "metadata.head(2)"
   ]
  },
  {
   "attachments": {},
   "cell_type": "markdown",
   "metadata": {},
   "source": [
    "Resequencing Columns As Per Requirement"
   ]
  },
  {
   "cell_type": "code",
   "execution_count": 24,
   "metadata": {},
   "outputs": [],
   "source": [
    "reSequence = ['id','title','genres','original_language','overview','runtime']"
   ]
  },
  {
   "cell_type": "code",
   "execution_count": 25,
   "metadata": {},
   "outputs": [],
   "source": [
    "metadata = metadata.reindex(columns = reSequence)"
   ]
  },
  {
   "cell_type": "code",
   "execution_count": 26,
   "metadata": {},
   "outputs": [
    {
     "data": {
      "text/html": [
       "<div>\n",
       "<style scoped>\n",
       "    .dataframe tbody tr th:only-of-type {\n",
       "        vertical-align: middle;\n",
       "    }\n",
       "\n",
       "    .dataframe tbody tr th {\n",
       "        vertical-align: top;\n",
       "    }\n",
       "\n",
       "    .dataframe thead th {\n",
       "        text-align: right;\n",
       "    }\n",
       "</style>\n",
       "<table border=\"1\" class=\"dataframe\">\n",
       "  <thead>\n",
       "    <tr style=\"text-align: right;\">\n",
       "      <th></th>\n",
       "      <th>id</th>\n",
       "      <th>title</th>\n",
       "      <th>genres</th>\n",
       "      <th>original_language</th>\n",
       "      <th>overview</th>\n",
       "      <th>runtime</th>\n",
       "    </tr>\n",
       "  </thead>\n",
       "  <tbody>\n",
       "    <tr>\n",
       "      <th>0</th>\n",
       "      <td>862</td>\n",
       "      <td>Toy Story</td>\n",
       "      <td>[{'id': 16, 'name': 'Animation'}, {'id': 35, '...</td>\n",
       "      <td>en</td>\n",
       "      <td>Led by Woody, Andy's toys live happily in his ...</td>\n",
       "      <td>81.0</td>\n",
       "    </tr>\n",
       "    <tr>\n",
       "      <th>1</th>\n",
       "      <td>8844</td>\n",
       "      <td>Jumanji</td>\n",
       "      <td>[{'id': 12, 'name': 'Adventure'}, {'id': 14, '...</td>\n",
       "      <td>en</td>\n",
       "      <td>When siblings Judy and Peter discover an encha...</td>\n",
       "      <td>104.0</td>\n",
       "    </tr>\n",
       "    <tr>\n",
       "      <th>2</th>\n",
       "      <td>15602</td>\n",
       "      <td>Grumpier Old Men</td>\n",
       "      <td>[{'id': 10749, 'name': 'Romance'}, {'id': 35, ...</td>\n",
       "      <td>en</td>\n",
       "      <td>A family wedding reignites the ancient feud be...</td>\n",
       "      <td>101.0</td>\n",
       "    </tr>\n",
       "    <tr>\n",
       "      <th>3</th>\n",
       "      <td>31357</td>\n",
       "      <td>Waiting to Exhale</td>\n",
       "      <td>[{'id': 35, 'name': 'Comedy'}, {'id': 18, 'nam...</td>\n",
       "      <td>en</td>\n",
       "      <td>Cheated on, mistreated and stepped on, the wom...</td>\n",
       "      <td>127.0</td>\n",
       "    </tr>\n",
       "    <tr>\n",
       "      <th>4</th>\n",
       "      <td>11862</td>\n",
       "      <td>Father of the Bride Part II</td>\n",
       "      <td>[{'id': 35, 'name': 'Comedy'}]</td>\n",
       "      <td>en</td>\n",
       "      <td>Just when George Banks has recovered from his ...</td>\n",
       "      <td>106.0</td>\n",
       "    </tr>\n",
       "  </tbody>\n",
       "</table>\n",
       "</div>"
      ],
      "text/plain": [
       "      id                        title  \\\n",
       "0    862                    Toy Story   \n",
       "1   8844                      Jumanji   \n",
       "2  15602             Grumpier Old Men   \n",
       "3  31357            Waiting to Exhale   \n",
       "4  11862  Father of the Bride Part II   \n",
       "\n",
       "                                              genres original_language  \\\n",
       "0  [{'id': 16, 'name': 'Animation'}, {'id': 35, '...                en   \n",
       "1  [{'id': 12, 'name': 'Adventure'}, {'id': 14, '...                en   \n",
       "2  [{'id': 10749, 'name': 'Romance'}, {'id': 35, ...                en   \n",
       "3  [{'id': 35, 'name': 'Comedy'}, {'id': 18, 'nam...                en   \n",
       "4                     [{'id': 35, 'name': 'Comedy'}]                en   \n",
       "\n",
       "                                            overview  runtime  \n",
       "0  Led by Woody, Andy's toys live happily in his ...     81.0  \n",
       "1  When siblings Judy and Peter discover an encha...    104.0  \n",
       "2  A family wedding reignites the ancient feud be...    101.0  \n",
       "3  Cheated on, mistreated and stepped on, the wom...    127.0  \n",
       "4  Just when George Banks has recovered from his ...    106.0  "
      ]
     },
     "execution_count": 26,
     "metadata": {},
     "output_type": "execute_result"
    }
   ],
   "source": [
    "metadata.head()"
   ]
  },
  {
   "attachments": {},
   "cell_type": "markdown",
   "metadata": {},
   "source": [
    "Deleting Null Valued Rows"
   ]
  },
  {
   "cell_type": "code",
   "execution_count": 27,
   "metadata": {},
   "outputs": [
    {
     "data": {
      "text/plain": [
       "(45466, 6)"
      ]
     },
     "execution_count": 27,
     "metadata": {},
     "output_type": "execute_result"
    }
   ],
   "source": [
    "metadata.shape"
   ]
  },
  {
   "cell_type": "code",
   "execution_count": 28,
   "metadata": {},
   "outputs": [
    {
     "data": {
      "text/plain": [
       "id                     0\n",
       "title                  6\n",
       "genres                 0\n",
       "original_language     11\n",
       "overview             954\n",
       "runtime              263\n",
       "dtype: int64"
      ]
     },
     "execution_count": 28,
     "metadata": {},
     "output_type": "execute_result"
    }
   ],
   "source": [
    "metadata.isna().sum()"
   ]
  },
  {
   "cell_type": "code",
   "execution_count": 29,
   "metadata": {},
   "outputs": [],
   "source": [
    "metadata = metadata.dropna()"
   ]
  },
  {
   "cell_type": "code",
   "execution_count": 30,
   "metadata": {},
   "outputs": [
    {
     "data": {
      "text/plain": [
       "id                   0\n",
       "title                0\n",
       "genres               0\n",
       "original_language    0\n",
       "overview             0\n",
       "runtime              0\n",
       "dtype: int64"
      ]
     },
     "execution_count": 30,
     "metadata": {},
     "output_type": "execute_result"
    }
   ],
   "source": [
    "metadata.isna().sum()"
   ]
  },
  {
   "cell_type": "code",
   "execution_count": 31,
   "metadata": {},
   "outputs": [
    {
     "data": {
      "text/plain": [
       "(44496, 6)"
      ]
     },
     "execution_count": 31,
     "metadata": {},
     "output_type": "execute_result"
    }
   ],
   "source": [
    "metadata.shape"
   ]
  },
  {
   "attachments": {},
   "cell_type": "markdown",
   "metadata": {},
   "source": [
    "Getting Crew column from \"Creds.csv\" - a processed output of \"Credits.csv\" in dataset"
   ]
  },
  {
   "cell_type": "code",
   "execution_count": 32,
   "metadata": {},
   "outputs": [],
   "source": [
    "creds = pd.read_csv(\"creds.csv\")"
   ]
  },
  {
   "cell_type": "code",
   "execution_count": 33,
   "metadata": {},
   "outputs": [
    {
     "name": "stdout",
     "output_type": "stream",
     "text": [
      "<class 'pandas.core.frame.DataFrame'>\n",
      "Int64Index: 44496 entries, 0 to 45465\n",
      "Data columns (total 6 columns):\n",
      " #   Column             Non-Null Count  Dtype  \n",
      "---  ------             --------------  -----  \n",
      " 0   id                 44496 non-null  object \n",
      " 1   title              44496 non-null  object \n",
      " 2   genres             44496 non-null  object \n",
      " 3   original_language  44496 non-null  object \n",
      " 4   overview           44496 non-null  object \n",
      " 5   runtime            44496 non-null  float64\n",
      "dtypes: float64(1), object(5)\n",
      "memory usage: 2.4+ MB\n"
     ]
    }
   ],
   "source": [
    "metadata.info()"
   ]
  },
  {
   "cell_type": "code",
   "execution_count": 34,
   "metadata": {},
   "outputs": [],
   "source": [
    "#Converting datatype of 'id' column before performing join operation\n",
    "metadata['id'] = metadata['id'].astype('int64')"
   ]
  },
  {
   "cell_type": "code",
   "execution_count": 35,
   "metadata": {},
   "outputs": [
    {
     "name": "stdout",
     "output_type": "stream",
     "text": [
      "<class 'pandas.core.frame.DataFrame'>\n",
      "Int64Index: 44496 entries, 0 to 45465\n",
      "Data columns (total 6 columns):\n",
      " #   Column             Non-Null Count  Dtype  \n",
      "---  ------             --------------  -----  \n",
      " 0   id                 44496 non-null  int64  \n",
      " 1   title              44496 non-null  object \n",
      " 2   genres             44496 non-null  object \n",
      " 3   original_language  44496 non-null  object \n",
      " 4   overview           44496 non-null  object \n",
      " 5   runtime            44496 non-null  float64\n",
      "dtypes: float64(1), int64(1), object(4)\n",
      "memory usage: 2.4+ MB\n"
     ]
    }
   ],
   "source": [
    "metadata.info()"
   ]
  },
  {
   "cell_type": "code",
   "execution_count": 36,
   "metadata": {},
   "outputs": [],
   "source": [
    "result = pd.merge(metadata, creds, on = 'id')"
   ]
  },
  {
   "cell_type": "code",
   "execution_count": 37,
   "metadata": {},
   "outputs": [
    {
     "data": {
      "text/plain": [
       "(44571, 8)"
      ]
     },
     "execution_count": 37,
     "metadata": {},
     "output_type": "execute_result"
    }
   ],
   "source": [
    "result.shape"
   ]
  },
  {
   "cell_type": "code",
   "execution_count": 38,
   "metadata": {},
   "outputs": [
    {
     "data": {
      "text/plain": [
       "id                   0\n",
       "title                0\n",
       "genres               0\n",
       "original_language    0\n",
       "overview             0\n",
       "runtime              0\n",
       "Unnamed: 0           0\n",
       "crew                 0\n",
       "dtype: int64"
      ]
     },
     "execution_count": 38,
     "metadata": {},
     "output_type": "execute_result"
    }
   ],
   "source": [
    "result.isna().sum()"
   ]
  },
  {
   "cell_type": "code",
   "execution_count": 39,
   "metadata": {},
   "outputs": [
    {
     "name": "stdout",
     "output_type": "stream",
     "text": [
      "<class 'pandas.core.frame.DataFrame'>\n",
      "Int64Index: 44571 entries, 0 to 44570\n",
      "Data columns (total 8 columns):\n",
      " #   Column             Non-Null Count  Dtype  \n",
      "---  ------             --------------  -----  \n",
      " 0   id                 44571 non-null  int64  \n",
      " 1   title              44571 non-null  object \n",
      " 2   genres             44571 non-null  object \n",
      " 3   original_language  44571 non-null  object \n",
      " 4   overview           44571 non-null  object \n",
      " 5   runtime            44571 non-null  float64\n",
      " 6   Unnamed: 0         44571 non-null  int64  \n",
      " 7   crew               44571 non-null  object \n",
      "dtypes: float64(1), int64(2), object(5)\n",
      "memory usage: 3.1+ MB\n"
     ]
    }
   ],
   "source": [
    "result.info()"
   ]
  },
  {
   "cell_type": "code",
   "execution_count": 40,
   "metadata": {},
   "outputs": [],
   "source": [
    "resultColumnList = result.columns"
   ]
  },
  {
   "cell_type": "code",
   "execution_count": 41,
   "metadata": {},
   "outputs": [
    {
     "data": {
      "text/plain": [
       "Index(['id', 'title', 'genres', 'original_language', 'overview', 'runtime',\n",
       "       'Unnamed: 0', 'crew'],\n",
       "      dtype='object')"
      ]
     },
     "execution_count": 41,
     "metadata": {},
     "output_type": "execute_result"
    }
   ],
   "source": [
    "resultColumnList"
   ]
  },
  {
   "cell_type": "code",
   "execution_count": 42,
   "metadata": {},
   "outputs": [],
   "source": [
    "result = result.drop(result.columns[6], axis=1)"
   ]
  },
  {
   "cell_type": "code",
   "execution_count": 43,
   "metadata": {},
   "outputs": [],
   "source": [
    "metadata = result.copy()"
   ]
  },
  {
   "cell_type": "code",
   "execution_count": 44,
   "metadata": {},
   "outputs": [
    {
     "data": {
      "text/html": [
       "<div>\n",
       "<style scoped>\n",
       "    .dataframe tbody tr th:only-of-type {\n",
       "        vertical-align: middle;\n",
       "    }\n",
       "\n",
       "    .dataframe tbody tr th {\n",
       "        vertical-align: top;\n",
       "    }\n",
       "\n",
       "    .dataframe thead th {\n",
       "        text-align: right;\n",
       "    }\n",
       "</style>\n",
       "<table border=\"1\" class=\"dataframe\">\n",
       "  <thead>\n",
       "    <tr style=\"text-align: right;\">\n",
       "      <th></th>\n",
       "      <th>id</th>\n",
       "      <th>title</th>\n",
       "      <th>genres</th>\n",
       "      <th>original_language</th>\n",
       "      <th>overview</th>\n",
       "      <th>runtime</th>\n",
       "      <th>crew</th>\n",
       "    </tr>\n",
       "  </thead>\n",
       "  <tbody>\n",
       "    <tr>\n",
       "      <th>0</th>\n",
       "      <td>862</td>\n",
       "      <td>Toy Story</td>\n",
       "      <td>[{'id': 16, 'name': 'Animation'}, {'id': 35, '...</td>\n",
       "      <td>en</td>\n",
       "      <td>Led by Woody, Andy's toys live happily in his ...</td>\n",
       "      <td>81.0</td>\n",
       "      <td>[{'credit_id': '52fe4284c3a36847f8024f49', 'de...</td>\n",
       "    </tr>\n",
       "    <tr>\n",
       "      <th>1</th>\n",
       "      <td>8844</td>\n",
       "      <td>Jumanji</td>\n",
       "      <td>[{'id': 12, 'name': 'Adventure'}, {'id': 14, '...</td>\n",
       "      <td>en</td>\n",
       "      <td>When siblings Judy and Peter discover an encha...</td>\n",
       "      <td>104.0</td>\n",
       "      <td>[{'credit_id': '52fe44bfc3a36847f80a7cd1', 'de...</td>\n",
       "    </tr>\n",
       "    <tr>\n",
       "      <th>2</th>\n",
       "      <td>15602</td>\n",
       "      <td>Grumpier Old Men</td>\n",
       "      <td>[{'id': 10749, 'name': 'Romance'}, {'id': 35, ...</td>\n",
       "      <td>en</td>\n",
       "      <td>A family wedding reignites the ancient feud be...</td>\n",
       "      <td>101.0</td>\n",
       "      <td>[{'credit_id': '52fe466a9251416c75077a89', 'de...</td>\n",
       "    </tr>\n",
       "    <tr>\n",
       "      <th>3</th>\n",
       "      <td>31357</td>\n",
       "      <td>Waiting to Exhale</td>\n",
       "      <td>[{'id': 35, 'name': 'Comedy'}, {'id': 18, 'nam...</td>\n",
       "      <td>en</td>\n",
       "      <td>Cheated on, mistreated and stepped on, the wom...</td>\n",
       "      <td>127.0</td>\n",
       "      <td>[{'credit_id': '52fe44779251416c91011acb', 'de...</td>\n",
       "    </tr>\n",
       "    <tr>\n",
       "      <th>4</th>\n",
       "      <td>11862</td>\n",
       "      <td>Father of the Bride Part II</td>\n",
       "      <td>[{'id': 35, 'name': 'Comedy'}]</td>\n",
       "      <td>en</td>\n",
       "      <td>Just when George Banks has recovered from his ...</td>\n",
       "      <td>106.0</td>\n",
       "      <td>[{'credit_id': '52fe44959251416c75039ed7', 'de...</td>\n",
       "    </tr>\n",
       "    <tr>\n",
       "      <th>...</th>\n",
       "      <td>...</td>\n",
       "      <td>...</td>\n",
       "      <td>...</td>\n",
       "      <td>...</td>\n",
       "      <td>...</td>\n",
       "      <td>...</td>\n",
       "      <td>...</td>\n",
       "    </tr>\n",
       "    <tr>\n",
       "      <th>44566</th>\n",
       "      <td>439050</td>\n",
       "      <td>Subdue</td>\n",
       "      <td>[{'id': 18, 'name': 'Drama'}, {'id': 10751, 'n...</td>\n",
       "      <td>fa</td>\n",
       "      <td>Rising and falling between a man and woman.</td>\n",
       "      <td>90.0</td>\n",
       "      <td>[{'credit_id': '5894a97d925141426c00818c', 'de...</td>\n",
       "    </tr>\n",
       "    <tr>\n",
       "      <th>44567</th>\n",
       "      <td>111109</td>\n",
       "      <td>Century of Birthing</td>\n",
       "      <td>[{'id': 18, 'name': 'Drama'}]</td>\n",
       "      <td>tl</td>\n",
       "      <td>An artist struggles to finish his work while a...</td>\n",
       "      <td>360.0</td>\n",
       "      <td>[{'credit_id': '52fe4af1c3a36847f81e9b15', 'de...</td>\n",
       "    </tr>\n",
       "    <tr>\n",
       "      <th>44568</th>\n",
       "      <td>67758</td>\n",
       "      <td>Betrayal</td>\n",
       "      <td>[{'id': 28, 'name': 'Action'}, {'id': 18, 'nam...</td>\n",
       "      <td>en</td>\n",
       "      <td>When one of her hits goes wrong, a professiona...</td>\n",
       "      <td>90.0</td>\n",
       "      <td>[{'credit_id': '52fe4776c3a368484e0c8387', 'de...</td>\n",
       "    </tr>\n",
       "    <tr>\n",
       "      <th>44569</th>\n",
       "      <td>227506</td>\n",
       "      <td>Satan Triumphant</td>\n",
       "      <td>[]</td>\n",
       "      <td>en</td>\n",
       "      <td>In a small town live two brothers, one a minis...</td>\n",
       "      <td>87.0</td>\n",
       "      <td>[{'credit_id': '533bccebc3a36844cf0011a7', 'de...</td>\n",
       "    </tr>\n",
       "    <tr>\n",
       "      <th>44570</th>\n",
       "      <td>461257</td>\n",
       "      <td>Queerama</td>\n",
       "      <td>[]</td>\n",
       "      <td>en</td>\n",
       "      <td>50 years after decriminalisation of homosexual...</td>\n",
       "      <td>75.0</td>\n",
       "      <td>[{'credit_id': '593e676c92514105b702e68e', 'de...</td>\n",
       "    </tr>\n",
       "  </tbody>\n",
       "</table>\n",
       "<p>44571 rows × 7 columns</p>\n",
       "</div>"
      ],
      "text/plain": [
       "           id                        title  \\\n",
       "0         862                    Toy Story   \n",
       "1        8844                      Jumanji   \n",
       "2       15602             Grumpier Old Men   \n",
       "3       31357            Waiting to Exhale   \n",
       "4       11862  Father of the Bride Part II   \n",
       "...       ...                          ...   \n",
       "44566  439050                       Subdue   \n",
       "44567  111109          Century of Birthing   \n",
       "44568   67758                     Betrayal   \n",
       "44569  227506             Satan Triumphant   \n",
       "44570  461257                     Queerama   \n",
       "\n",
       "                                                  genres original_language  \\\n",
       "0      [{'id': 16, 'name': 'Animation'}, {'id': 35, '...                en   \n",
       "1      [{'id': 12, 'name': 'Adventure'}, {'id': 14, '...                en   \n",
       "2      [{'id': 10749, 'name': 'Romance'}, {'id': 35, ...                en   \n",
       "3      [{'id': 35, 'name': 'Comedy'}, {'id': 18, 'nam...                en   \n",
       "4                         [{'id': 35, 'name': 'Comedy'}]                en   \n",
       "...                                                  ...               ...   \n",
       "44566  [{'id': 18, 'name': 'Drama'}, {'id': 10751, 'n...                fa   \n",
       "44567                      [{'id': 18, 'name': 'Drama'}]                tl   \n",
       "44568  [{'id': 28, 'name': 'Action'}, {'id': 18, 'nam...                en   \n",
       "44569                                                 []                en   \n",
       "44570                                                 []                en   \n",
       "\n",
       "                                                overview  runtime  \\\n",
       "0      Led by Woody, Andy's toys live happily in his ...     81.0   \n",
       "1      When siblings Judy and Peter discover an encha...    104.0   \n",
       "2      A family wedding reignites the ancient feud be...    101.0   \n",
       "3      Cheated on, mistreated and stepped on, the wom...    127.0   \n",
       "4      Just when George Banks has recovered from his ...    106.0   \n",
       "...                                                  ...      ...   \n",
       "44566        Rising and falling between a man and woman.     90.0   \n",
       "44567  An artist struggles to finish his work while a...    360.0   \n",
       "44568  When one of her hits goes wrong, a professiona...     90.0   \n",
       "44569  In a small town live two brothers, one a minis...     87.0   \n",
       "44570  50 years after decriminalisation of homosexual...     75.0   \n",
       "\n",
       "                                                    crew  \n",
       "0      [{'credit_id': '52fe4284c3a36847f8024f49', 'de...  \n",
       "1      [{'credit_id': '52fe44bfc3a36847f80a7cd1', 'de...  \n",
       "2      [{'credit_id': '52fe466a9251416c75077a89', 'de...  \n",
       "3      [{'credit_id': '52fe44779251416c91011acb', 'de...  \n",
       "4      [{'credit_id': '52fe44959251416c75039ed7', 'de...  \n",
       "...                                                  ...  \n",
       "44566  [{'credit_id': '5894a97d925141426c00818c', 'de...  \n",
       "44567  [{'credit_id': '52fe4af1c3a36847f81e9b15', 'de...  \n",
       "44568  [{'credit_id': '52fe4776c3a368484e0c8387', 'de...  \n",
       "44569  [{'credit_id': '533bccebc3a36844cf0011a7', 'de...  \n",
       "44570  [{'credit_id': '593e676c92514105b702e68e', 'de...  \n",
       "\n",
       "[44571 rows x 7 columns]"
      ]
     },
     "execution_count": 44,
     "metadata": {},
     "output_type": "execute_result"
    }
   ],
   "source": [
    "metadata"
   ]
  },
  {
   "cell_type": "code",
   "execution_count": 45,
   "metadata": {},
   "outputs": [],
   "source": [
    "del result"
   ]
  },
  {
   "attachments": {},
   "cell_type": "markdown",
   "metadata": {},
   "source": [
    "Processing Genre Column"
   ]
  },
  {
   "cell_type": "code",
   "execution_count": 46,
   "metadata": {},
   "outputs": [
    {
     "data": {
      "text/plain": [
       "0        [{'id': 16, 'name': 'Animation'}, {'id': 35, '...\n",
       "1        [{'id': 12, 'name': 'Adventure'}, {'id': 14, '...\n",
       "2        [{'id': 10749, 'name': 'Romance'}, {'id': 35, ...\n",
       "3        [{'id': 35, 'name': 'Comedy'}, {'id': 18, 'nam...\n",
       "4                           [{'id': 35, 'name': 'Comedy'}]\n",
       "                               ...                        \n",
       "44566    [{'id': 18, 'name': 'Drama'}, {'id': 10751, 'n...\n",
       "44567                        [{'id': 18, 'name': 'Drama'}]\n",
       "44568    [{'id': 28, 'name': 'Action'}, {'id': 18, 'nam...\n",
       "44569                                                   []\n",
       "44570                                                   []\n",
       "Name: genres, Length: 44571, dtype: object"
      ]
     },
     "execution_count": 46,
     "metadata": {},
     "output_type": "execute_result"
    }
   ],
   "source": [
    "metadata['genres']"
   ]
  },
  {
   "cell_type": "code",
   "execution_count": 47,
   "metadata": {},
   "outputs": [
    {
     "name": "stderr",
     "output_type": "stream",
     "text": [
      "C:\\Users\\Mo Kasim\\AppData\\Local\\Temp\\ipykernel_21240\\2184548895.py:3: SettingWithCopyWarning: \n",
      "A value is trying to be set on a copy of a slice from a DataFrame\n",
      "\n",
      "See the caveats in the documentation: https://pandas.pydata.org/pandas-docs/stable/user_guide/indexing.html#returning-a-view-versus-a-copy\n",
      "  metadata['genres'].loc[i] = metadata['genres'].loc[i].replace(\"[{'id': \",'')\n",
      "C:\\Users\\Mo Kasim\\AppData\\Local\\Temp\\ipykernel_21240\\2184548895.py:4: SettingWithCopyWarning: \n",
      "A value is trying to be set on a copy of a slice from a DataFrame\n",
      "\n",
      "See the caveats in the documentation: https://pandas.pydata.org/pandas-docs/stable/user_guide/indexing.html#returning-a-view-versus-a-copy\n",
      "  metadata['genres'].loc[i] = metadata['genres'].loc[i].replace(\", 'name': \",'')\n",
      "C:\\Users\\Mo Kasim\\AppData\\Local\\Temp\\ipykernel_21240\\2184548895.py:5: SettingWithCopyWarning: \n",
      "A value is trying to be set on a copy of a slice from a DataFrame\n",
      "\n",
      "See the caveats in the documentation: https://pandas.pydata.org/pandas-docs/stable/user_guide/indexing.html#returning-a-view-versus-a-copy\n",
      "  metadata['genres'].loc[i] = metadata['genres'].loc[i].replace(\"}, {'id': \",'')\n",
      "C:\\Users\\Mo Kasim\\AppData\\Local\\Temp\\ipykernel_21240\\2184548895.py:6: SettingWithCopyWarning: \n",
      "A value is trying to be set on a copy of a slice from a DataFrame\n",
      "\n",
      "See the caveats in the documentation: https://pandas.pydata.org/pandas-docs/stable/user_guide/indexing.html#returning-a-view-versus-a-copy\n",
      "  metadata['genres'].loc[i] = metadata['genres'].loc[i].replace(\"}]\",'')\n",
      "C:\\Users\\Mo Kasim\\AppData\\Local\\Temp\\ipykernel_21240\\2184548895.py:7: SettingWithCopyWarning: \n",
      "A value is trying to be set on a copy of a slice from a DataFrame\n",
      "\n",
      "See the caveats in the documentation: https://pandas.pydata.org/pandas-docs/stable/user_guide/indexing.html#returning-a-view-versus-a-copy\n",
      "  metadata['genres'].loc[i] = metadata['genres'].loc[i].translate(str.maketrans(\"\", \"\", string.digits))\n",
      "C:\\Users\\Mo Kasim\\AppData\\Local\\Temp\\ipykernel_21240\\2184548895.py:8: SettingWithCopyWarning: \n",
      "A value is trying to be set on a copy of a slice from a DataFrame\n",
      "\n",
      "See the caveats in the documentation: https://pandas.pydata.org/pandas-docs/stable/user_guide/indexing.html#returning-a-view-versus-a-copy\n",
      "  metadata['genres'].loc[i] = metadata['genres'].loc[i].replace(\"''\",'-')\n",
      "C:\\Users\\Mo Kasim\\AppData\\Local\\Temp\\ipykernel_21240\\2184548895.py:9: SettingWithCopyWarning: \n",
      "A value is trying to be set on a copy of a slice from a DataFrame\n",
      "\n",
      "See the caveats in the documentation: https://pandas.pydata.org/pandas-docs/stable/user_guide/indexing.html#returning-a-view-versus-a-copy\n",
      "  metadata['genres'].loc[i] = metadata['genres'].loc[i].replace(\"'\",'')\n"
     ]
    }
   ],
   "source": [
    "import string\n",
    "for i in range(len(metadata['genres'])):\n",
    "    metadata['genres'].loc[i] = metadata['genres'].loc[i].replace(\"[{'id': \",'')\n",
    "    metadata['genres'].loc[i] = metadata['genres'].loc[i].replace(\", 'name': \",'')\n",
    "    metadata['genres'].loc[i] = metadata['genres'].loc[i].replace(\"}, {'id': \",'')\n",
    "    metadata['genres'].loc[i] = metadata['genres'].loc[i].replace(\"}]\",'')\n",
    "    metadata['genres'].loc[i] = metadata['genres'].loc[i].translate(str.maketrans(\"\", \"\", string.digits))\n",
    "    metadata['genres'].loc[i] = metadata['genres'].loc[i].replace(\"''\",'-')\n",
    "    metadata['genres'].loc[i] = metadata['genres'].loc[i].replace(\"'\",'')"
   ]
  },
  {
   "cell_type": "code",
   "execution_count": 48,
   "metadata": {},
   "outputs": [],
   "source": [
    "#Dumping temporary sheet and deleting metadata variable\n",
    "metadata.to_csv(\"metadata1.csv\", index=False)"
   ]
  },
  {
   "cell_type": "code",
   "execution_count": 49,
   "metadata": {},
   "outputs": [],
   "source": [
    "del metadata"
   ]
  },
  {
   "cell_type": "code",
   "execution_count": 126,
   "metadata": {},
   "outputs": [],
   "source": [
    "movieData = pd.read_csv(\"metadata1.csv\")"
   ]
  },
  {
   "cell_type": "code",
   "execution_count": 127,
   "metadata": {},
   "outputs": [
    {
     "data": {
      "text/plain": [
       "(44571, 7)"
      ]
     },
     "execution_count": 127,
     "metadata": {},
     "output_type": "execute_result"
    }
   ],
   "source": [
    "movieData.shape"
   ]
  },
  {
   "cell_type": "code",
   "execution_count": 128,
   "metadata": {},
   "outputs": [
    {
     "data": {
      "text/html": [
       "<div>\n",
       "<style scoped>\n",
       "    .dataframe tbody tr th:only-of-type {\n",
       "        vertical-align: middle;\n",
       "    }\n",
       "\n",
       "    .dataframe tbody tr th {\n",
       "        vertical-align: top;\n",
       "    }\n",
       "\n",
       "    .dataframe thead th {\n",
       "        text-align: right;\n",
       "    }\n",
       "</style>\n",
       "<table border=\"1\" class=\"dataframe\">\n",
       "  <thead>\n",
       "    <tr style=\"text-align: right;\">\n",
       "      <th></th>\n",
       "      <th>id</th>\n",
       "      <th>title</th>\n",
       "      <th>genres</th>\n",
       "      <th>original_language</th>\n",
       "      <th>overview</th>\n",
       "      <th>runtime</th>\n",
       "      <th>crew</th>\n",
       "    </tr>\n",
       "  </thead>\n",
       "  <tbody>\n",
       "    <tr>\n",
       "      <th>0</th>\n",
       "      <td>862</td>\n",
       "      <td>Toy Story</td>\n",
       "      <td>Animation-Comedy-Family</td>\n",
       "      <td>en</td>\n",
       "      <td>Led by Woody, Andy's toys live happily in his ...</td>\n",
       "      <td>81.0</td>\n",
       "      <td>[{'credit_id': '52fe4284c3a36847f8024f49', 'de...</td>\n",
       "    </tr>\n",
       "    <tr>\n",
       "      <th>1</th>\n",
       "      <td>8844</td>\n",
       "      <td>Jumanji</td>\n",
       "      <td>Adventure-Fantasy-Family</td>\n",
       "      <td>en</td>\n",
       "      <td>When siblings Judy and Peter discover an encha...</td>\n",
       "      <td>104.0</td>\n",
       "      <td>[{'credit_id': '52fe44bfc3a36847f80a7cd1', 'de...</td>\n",
       "    </tr>\n",
       "    <tr>\n",
       "      <th>2</th>\n",
       "      <td>15602</td>\n",
       "      <td>Grumpier Old Men</td>\n",
       "      <td>Romance-Comedy</td>\n",
       "      <td>en</td>\n",
       "      <td>A family wedding reignites the ancient feud be...</td>\n",
       "      <td>101.0</td>\n",
       "      <td>[{'credit_id': '52fe466a9251416c75077a89', 'de...</td>\n",
       "    </tr>\n",
       "  </tbody>\n",
       "</table>\n",
       "</div>"
      ],
      "text/plain": [
       "      id             title                    genres original_language  \\\n",
       "0    862         Toy Story   Animation-Comedy-Family                en   \n",
       "1   8844           Jumanji  Adventure-Fantasy-Family                en   \n",
       "2  15602  Grumpier Old Men            Romance-Comedy                en   \n",
       "\n",
       "                                            overview  runtime  \\\n",
       "0  Led by Woody, Andy's toys live happily in his ...     81.0   \n",
       "1  When siblings Judy and Peter discover an encha...    104.0   \n",
       "2  A family wedding reignites the ancient feud be...    101.0   \n",
       "\n",
       "                                                crew  \n",
       "0  [{'credit_id': '52fe4284c3a36847f8024f49', 'de...  \n",
       "1  [{'credit_id': '52fe44bfc3a36847f80a7cd1', 'de...  \n",
       "2  [{'credit_id': '52fe466a9251416c75077a89', 'de...  "
      ]
     },
     "execution_count": 128,
     "metadata": {},
     "output_type": "execute_result"
    }
   ],
   "source": [
    "movieData.head(3)"
   ]
  },
  {
   "cell_type": "code",
   "execution_count": 129,
   "metadata": {},
   "outputs": [],
   "source": [
    "#Adding DirectorName and ProducerName column\n",
    "movieData = movieData.reindex(['id', 'title', 'genres','DirectorName','ProducerName', 'original_language', 'overview', 'runtime', 'crew'],axis=1)"
   ]
  },
  {
   "cell_type": "code",
   "execution_count": 130,
   "metadata": {},
   "outputs": [
    {
     "data": {
      "text/html": [
       "<div>\n",
       "<style scoped>\n",
       "    .dataframe tbody tr th:only-of-type {\n",
       "        vertical-align: middle;\n",
       "    }\n",
       "\n",
       "    .dataframe tbody tr th {\n",
       "        vertical-align: top;\n",
       "    }\n",
       "\n",
       "    .dataframe thead th {\n",
       "        text-align: right;\n",
       "    }\n",
       "</style>\n",
       "<table border=\"1\" class=\"dataframe\">\n",
       "  <thead>\n",
       "    <tr style=\"text-align: right;\">\n",
       "      <th></th>\n",
       "      <th>id</th>\n",
       "      <th>title</th>\n",
       "      <th>genres</th>\n",
       "      <th>DirectorName</th>\n",
       "      <th>ProducerName</th>\n",
       "      <th>original_language</th>\n",
       "      <th>overview</th>\n",
       "      <th>runtime</th>\n",
       "      <th>crew</th>\n",
       "    </tr>\n",
       "  </thead>\n",
       "  <tbody>\n",
       "    <tr>\n",
       "      <th>0</th>\n",
       "      <td>862</td>\n",
       "      <td>Toy Story</td>\n",
       "      <td>Animation-Comedy-Family</td>\n",
       "      <td>NaN</td>\n",
       "      <td>NaN</td>\n",
       "      <td>en</td>\n",
       "      <td>Led by Woody, Andy's toys live happily in his ...</td>\n",
       "      <td>81.0</td>\n",
       "      <td>[{'credit_id': '52fe4284c3a36847f8024f49', 'de...</td>\n",
       "    </tr>\n",
       "    <tr>\n",
       "      <th>1</th>\n",
       "      <td>8844</td>\n",
       "      <td>Jumanji</td>\n",
       "      <td>Adventure-Fantasy-Family</td>\n",
       "      <td>NaN</td>\n",
       "      <td>NaN</td>\n",
       "      <td>en</td>\n",
       "      <td>When siblings Judy and Peter discover an encha...</td>\n",
       "      <td>104.0</td>\n",
       "      <td>[{'credit_id': '52fe44bfc3a36847f80a7cd1', 'de...</td>\n",
       "    </tr>\n",
       "    <tr>\n",
       "      <th>2</th>\n",
       "      <td>15602</td>\n",
       "      <td>Grumpier Old Men</td>\n",
       "      <td>Romance-Comedy</td>\n",
       "      <td>NaN</td>\n",
       "      <td>NaN</td>\n",
       "      <td>en</td>\n",
       "      <td>A family wedding reignites the ancient feud be...</td>\n",
       "      <td>101.0</td>\n",
       "      <td>[{'credit_id': '52fe466a9251416c75077a89', 'de...</td>\n",
       "    </tr>\n",
       "    <tr>\n",
       "      <th>3</th>\n",
       "      <td>31357</td>\n",
       "      <td>Waiting to Exhale</td>\n",
       "      <td>Comedy-Drama-Romance</td>\n",
       "      <td>NaN</td>\n",
       "      <td>NaN</td>\n",
       "      <td>en</td>\n",
       "      <td>Cheated on, mistreated and stepped on, the wom...</td>\n",
       "      <td>127.0</td>\n",
       "      <td>[{'credit_id': '52fe44779251416c91011acb', 'de...</td>\n",
       "    </tr>\n",
       "    <tr>\n",
       "      <th>4</th>\n",
       "      <td>11862</td>\n",
       "      <td>Father of the Bride Part II</td>\n",
       "      <td>Comedy</td>\n",
       "      <td>NaN</td>\n",
       "      <td>NaN</td>\n",
       "      <td>en</td>\n",
       "      <td>Just when George Banks has recovered from his ...</td>\n",
       "      <td>106.0</td>\n",
       "      <td>[{'credit_id': '52fe44959251416c75039ed7', 'de...</td>\n",
       "    </tr>\n",
       "    <tr>\n",
       "      <th>...</th>\n",
       "      <td>...</td>\n",
       "      <td>...</td>\n",
       "      <td>...</td>\n",
       "      <td>...</td>\n",
       "      <td>...</td>\n",
       "      <td>...</td>\n",
       "      <td>...</td>\n",
       "      <td>...</td>\n",
       "      <td>...</td>\n",
       "    </tr>\n",
       "    <tr>\n",
       "      <th>44566</th>\n",
       "      <td>439050</td>\n",
       "      <td>Subdue</td>\n",
       "      <td>Drama-Family</td>\n",
       "      <td>NaN</td>\n",
       "      <td>NaN</td>\n",
       "      <td>fa</td>\n",
       "      <td>Rising and falling between a man and woman.</td>\n",
       "      <td>90.0</td>\n",
       "      <td>[{'credit_id': '5894a97d925141426c00818c', 'de...</td>\n",
       "    </tr>\n",
       "    <tr>\n",
       "      <th>44567</th>\n",
       "      <td>111109</td>\n",
       "      <td>Century of Birthing</td>\n",
       "      <td>Drama</td>\n",
       "      <td>NaN</td>\n",
       "      <td>NaN</td>\n",
       "      <td>tl</td>\n",
       "      <td>An artist struggles to finish his work while a...</td>\n",
       "      <td>360.0</td>\n",
       "      <td>[{'credit_id': '52fe4af1c3a36847f81e9b15', 'de...</td>\n",
       "    </tr>\n",
       "    <tr>\n",
       "      <th>44568</th>\n",
       "      <td>67758</td>\n",
       "      <td>Betrayal</td>\n",
       "      <td>Action-Drama-Thriller</td>\n",
       "      <td>NaN</td>\n",
       "      <td>NaN</td>\n",
       "      <td>en</td>\n",
       "      <td>When one of her hits goes wrong, a professiona...</td>\n",
       "      <td>90.0</td>\n",
       "      <td>[{'credit_id': '52fe4776c3a368484e0c8387', 'de...</td>\n",
       "    </tr>\n",
       "    <tr>\n",
       "      <th>44569</th>\n",
       "      <td>227506</td>\n",
       "      <td>Satan Triumphant</td>\n",
       "      <td>[]</td>\n",
       "      <td>NaN</td>\n",
       "      <td>NaN</td>\n",
       "      <td>en</td>\n",
       "      <td>In a small town live two brothers, one a minis...</td>\n",
       "      <td>87.0</td>\n",
       "      <td>[{'credit_id': '533bccebc3a36844cf0011a7', 'de...</td>\n",
       "    </tr>\n",
       "    <tr>\n",
       "      <th>44570</th>\n",
       "      <td>461257</td>\n",
       "      <td>Queerama</td>\n",
       "      <td>[]</td>\n",
       "      <td>NaN</td>\n",
       "      <td>NaN</td>\n",
       "      <td>en</td>\n",
       "      <td>50 years after decriminalisation of homosexual...</td>\n",
       "      <td>75.0</td>\n",
       "      <td>[{'credit_id': '593e676c92514105b702e68e', 'de...</td>\n",
       "    </tr>\n",
       "  </tbody>\n",
       "</table>\n",
       "<p>44571 rows × 9 columns</p>\n",
       "</div>"
      ],
      "text/plain": [
       "           id                        title                    genres  \\\n",
       "0         862                    Toy Story   Animation-Comedy-Family   \n",
       "1        8844                      Jumanji  Adventure-Fantasy-Family   \n",
       "2       15602             Grumpier Old Men            Romance-Comedy   \n",
       "3       31357            Waiting to Exhale      Comedy-Drama-Romance   \n",
       "4       11862  Father of the Bride Part II                    Comedy   \n",
       "...       ...                          ...                       ...   \n",
       "44566  439050                       Subdue              Drama-Family   \n",
       "44567  111109          Century of Birthing                     Drama   \n",
       "44568   67758                     Betrayal     Action-Drama-Thriller   \n",
       "44569  227506             Satan Triumphant                        []   \n",
       "44570  461257                     Queerama                        []   \n",
       "\n",
       "       DirectorName  ProducerName original_language  \\\n",
       "0               NaN           NaN                en   \n",
       "1               NaN           NaN                en   \n",
       "2               NaN           NaN                en   \n",
       "3               NaN           NaN                en   \n",
       "4               NaN           NaN                en   \n",
       "...             ...           ...               ...   \n",
       "44566           NaN           NaN                fa   \n",
       "44567           NaN           NaN                tl   \n",
       "44568           NaN           NaN                en   \n",
       "44569           NaN           NaN                en   \n",
       "44570           NaN           NaN                en   \n",
       "\n",
       "                                                overview  runtime  \\\n",
       "0      Led by Woody, Andy's toys live happily in his ...     81.0   \n",
       "1      When siblings Judy and Peter discover an encha...    104.0   \n",
       "2      A family wedding reignites the ancient feud be...    101.0   \n",
       "3      Cheated on, mistreated and stepped on, the wom...    127.0   \n",
       "4      Just when George Banks has recovered from his ...    106.0   \n",
       "...                                                  ...      ...   \n",
       "44566        Rising and falling between a man and woman.     90.0   \n",
       "44567  An artist struggles to finish his work while a...    360.0   \n",
       "44568  When one of her hits goes wrong, a professiona...     90.0   \n",
       "44569  In a small town live two brothers, one a minis...     87.0   \n",
       "44570  50 years after decriminalisation of homosexual...     75.0   \n",
       "\n",
       "                                                    crew  \n",
       "0      [{'credit_id': '52fe4284c3a36847f8024f49', 'de...  \n",
       "1      [{'credit_id': '52fe44bfc3a36847f80a7cd1', 'de...  \n",
       "2      [{'credit_id': '52fe466a9251416c75077a89', 'de...  \n",
       "3      [{'credit_id': '52fe44779251416c91011acb', 'de...  \n",
       "4      [{'credit_id': '52fe44959251416c75039ed7', 'de...  \n",
       "...                                                  ...  \n",
       "44566  [{'credit_id': '5894a97d925141426c00818c', 'de...  \n",
       "44567  [{'credit_id': '52fe4af1c3a36847f81e9b15', 'de...  \n",
       "44568  [{'credit_id': '52fe4776c3a368484e0c8387', 'de...  \n",
       "44569  [{'credit_id': '533bccebc3a36844cf0011a7', 'de...  \n",
       "44570  [{'credit_id': '593e676c92514105b702e68e', 'de...  \n",
       "\n",
       "[44571 rows x 9 columns]"
      ]
     },
     "execution_count": 130,
     "metadata": {},
     "output_type": "execute_result"
    }
   ],
   "source": [
    "movieData"
   ]
  },
  {
   "attachments": {},
   "cell_type": "markdown",
   "metadata": {},
   "source": [
    "Processing Crew column to get DirectorName and ProducerName"
   ]
  },
  {
   "cell_type": "code",
   "execution_count": 131,
   "metadata": {},
   "outputs": [
    {
     "data": {
      "text/plain": [
       "0        [{'credit_id': '52fe4284c3a36847f8024f49', 'de...\n",
       "1        [{'credit_id': '52fe44bfc3a36847f80a7cd1', 'de...\n",
       "2        [{'credit_id': '52fe466a9251416c75077a89', 'de...\n",
       "3        [{'credit_id': '52fe44779251416c91011acb', 'de...\n",
       "4        [{'credit_id': '52fe44959251416c75039ed7', 'de...\n",
       "                               ...                        \n",
       "44566    [{'credit_id': '5894a97d925141426c00818c', 'de...\n",
       "44567    [{'credit_id': '52fe4af1c3a36847f81e9b15', 'de...\n",
       "44568    [{'credit_id': '52fe4776c3a368484e0c8387', 'de...\n",
       "44569    [{'credit_id': '533bccebc3a36844cf0011a7', 'de...\n",
       "44570    [{'credit_id': '593e676c92514105b702e68e', 'de...\n",
       "Name: crew, Length: 44571, dtype: object"
      ]
     },
     "execution_count": 131,
     "metadata": {},
     "output_type": "execute_result"
    }
   ],
   "source": [
    "movieData['crew']"
   ]
  },
  {
   "cell_type": "code",
   "execution_count": 132,
   "metadata": {},
   "outputs": [],
   "source": [
    "import ast"
   ]
  },
  {
   "cell_type": "code",
   "execution_count": 133,
   "metadata": {},
   "outputs": [],
   "source": [
    "directorName=[]\n",
    "breakPoint = 0\n",
    "for i in movieData['crew']:\n",
    "    dict_list = ast.literal_eval(i)\n",
    "    flag =0\n",
    "    for j in range(len(dict_list)):\n",
    "        if dict_list[j]['job']==\"Director\":\n",
    "            directorName.append(dict_list[j]['name'])\n",
    "            flag =1\n",
    "            break\n",
    "    if flag==0:\n",
    "        directorName.append(None)"
   ]
  },
  {
   "cell_type": "code",
   "execution_count": 134,
   "metadata": {},
   "outputs": [
    {
     "data": {
      "text/plain": [
       "44571"
      ]
     },
     "execution_count": 134,
     "metadata": {},
     "output_type": "execute_result"
    }
   ],
   "source": [
    "len(directorName)"
   ]
  },
  {
   "cell_type": "code",
   "execution_count": 135,
   "metadata": {},
   "outputs": [],
   "source": [
    "movieData['DirectorName']=directorName"
   ]
  },
  {
   "cell_type": "code",
   "execution_count": 136,
   "metadata": {},
   "outputs": [
    {
     "data": {
      "text/html": [
       "<div>\n",
       "<style scoped>\n",
       "    .dataframe tbody tr th:only-of-type {\n",
       "        vertical-align: middle;\n",
       "    }\n",
       "\n",
       "    .dataframe tbody tr th {\n",
       "        vertical-align: top;\n",
       "    }\n",
       "\n",
       "    .dataframe thead th {\n",
       "        text-align: right;\n",
       "    }\n",
       "</style>\n",
       "<table border=\"1\" class=\"dataframe\">\n",
       "  <thead>\n",
       "    <tr style=\"text-align: right;\">\n",
       "      <th></th>\n",
       "      <th>id</th>\n",
       "      <th>title</th>\n",
       "      <th>genres</th>\n",
       "      <th>DirectorName</th>\n",
       "      <th>ProducerName</th>\n",
       "      <th>original_language</th>\n",
       "      <th>overview</th>\n",
       "      <th>runtime</th>\n",
       "      <th>crew</th>\n",
       "    </tr>\n",
       "  </thead>\n",
       "  <tbody>\n",
       "    <tr>\n",
       "      <th>0</th>\n",
       "      <td>862</td>\n",
       "      <td>Toy Story</td>\n",
       "      <td>Animation-Comedy-Family</td>\n",
       "      <td>John Lasseter</td>\n",
       "      <td>NaN</td>\n",
       "      <td>en</td>\n",
       "      <td>Led by Woody, Andy's toys live happily in his ...</td>\n",
       "      <td>81.0</td>\n",
       "      <td>[{'credit_id': '52fe4284c3a36847f8024f49', 'de...</td>\n",
       "    </tr>\n",
       "    <tr>\n",
       "      <th>1</th>\n",
       "      <td>8844</td>\n",
       "      <td>Jumanji</td>\n",
       "      <td>Adventure-Fantasy-Family</td>\n",
       "      <td>Joe Johnston</td>\n",
       "      <td>NaN</td>\n",
       "      <td>en</td>\n",
       "      <td>When siblings Judy and Peter discover an encha...</td>\n",
       "      <td>104.0</td>\n",
       "      <td>[{'credit_id': '52fe44bfc3a36847f80a7cd1', 'de...</td>\n",
       "    </tr>\n",
       "    <tr>\n",
       "      <th>2</th>\n",
       "      <td>15602</td>\n",
       "      <td>Grumpier Old Men</td>\n",
       "      <td>Romance-Comedy</td>\n",
       "      <td>Howard Deutch</td>\n",
       "      <td>NaN</td>\n",
       "      <td>en</td>\n",
       "      <td>A family wedding reignites the ancient feud be...</td>\n",
       "      <td>101.0</td>\n",
       "      <td>[{'credit_id': '52fe466a9251416c75077a89', 'de...</td>\n",
       "    </tr>\n",
       "    <tr>\n",
       "      <th>3</th>\n",
       "      <td>31357</td>\n",
       "      <td>Waiting to Exhale</td>\n",
       "      <td>Comedy-Drama-Romance</td>\n",
       "      <td>Forest Whitaker</td>\n",
       "      <td>NaN</td>\n",
       "      <td>en</td>\n",
       "      <td>Cheated on, mistreated and stepped on, the wom...</td>\n",
       "      <td>127.0</td>\n",
       "      <td>[{'credit_id': '52fe44779251416c91011acb', 'de...</td>\n",
       "    </tr>\n",
       "    <tr>\n",
       "      <th>4</th>\n",
       "      <td>11862</td>\n",
       "      <td>Father of the Bride Part II</td>\n",
       "      <td>Comedy</td>\n",
       "      <td>Charles Shyer</td>\n",
       "      <td>NaN</td>\n",
       "      <td>en</td>\n",
       "      <td>Just when George Banks has recovered from his ...</td>\n",
       "      <td>106.0</td>\n",
       "      <td>[{'credit_id': '52fe44959251416c75039ed7', 'de...</td>\n",
       "    </tr>\n",
       "    <tr>\n",
       "      <th>...</th>\n",
       "      <td>...</td>\n",
       "      <td>...</td>\n",
       "      <td>...</td>\n",
       "      <td>...</td>\n",
       "      <td>...</td>\n",
       "      <td>...</td>\n",
       "      <td>...</td>\n",
       "      <td>...</td>\n",
       "      <td>...</td>\n",
       "    </tr>\n",
       "    <tr>\n",
       "      <th>44566</th>\n",
       "      <td>439050</td>\n",
       "      <td>Subdue</td>\n",
       "      <td>Drama-Family</td>\n",
       "      <td>Hamid Nematollah</td>\n",
       "      <td>NaN</td>\n",
       "      <td>fa</td>\n",
       "      <td>Rising and falling between a man and woman.</td>\n",
       "      <td>90.0</td>\n",
       "      <td>[{'credit_id': '5894a97d925141426c00818c', 'de...</td>\n",
       "    </tr>\n",
       "    <tr>\n",
       "      <th>44567</th>\n",
       "      <td>111109</td>\n",
       "      <td>Century of Birthing</td>\n",
       "      <td>Drama</td>\n",
       "      <td>Lav Diaz</td>\n",
       "      <td>NaN</td>\n",
       "      <td>tl</td>\n",
       "      <td>An artist struggles to finish his work while a...</td>\n",
       "      <td>360.0</td>\n",
       "      <td>[{'credit_id': '52fe4af1c3a36847f81e9b15', 'de...</td>\n",
       "    </tr>\n",
       "    <tr>\n",
       "      <th>44568</th>\n",
       "      <td>67758</td>\n",
       "      <td>Betrayal</td>\n",
       "      <td>Action-Drama-Thriller</td>\n",
       "      <td>Mark L. Lester</td>\n",
       "      <td>NaN</td>\n",
       "      <td>en</td>\n",
       "      <td>When one of her hits goes wrong, a professiona...</td>\n",
       "      <td>90.0</td>\n",
       "      <td>[{'credit_id': '52fe4776c3a368484e0c8387', 'de...</td>\n",
       "    </tr>\n",
       "    <tr>\n",
       "      <th>44569</th>\n",
       "      <td>227506</td>\n",
       "      <td>Satan Triumphant</td>\n",
       "      <td>[]</td>\n",
       "      <td>Yakov Protazanov</td>\n",
       "      <td>NaN</td>\n",
       "      <td>en</td>\n",
       "      <td>In a small town live two brothers, one a minis...</td>\n",
       "      <td>87.0</td>\n",
       "      <td>[{'credit_id': '533bccebc3a36844cf0011a7', 'de...</td>\n",
       "    </tr>\n",
       "    <tr>\n",
       "      <th>44570</th>\n",
       "      <td>461257</td>\n",
       "      <td>Queerama</td>\n",
       "      <td>[]</td>\n",
       "      <td>Daisy Asquith</td>\n",
       "      <td>NaN</td>\n",
       "      <td>en</td>\n",
       "      <td>50 years after decriminalisation of homosexual...</td>\n",
       "      <td>75.0</td>\n",
       "      <td>[{'credit_id': '593e676c92514105b702e68e', 'de...</td>\n",
       "    </tr>\n",
       "  </tbody>\n",
       "</table>\n",
       "<p>44571 rows × 9 columns</p>\n",
       "</div>"
      ],
      "text/plain": [
       "           id                        title                    genres  \\\n",
       "0         862                    Toy Story   Animation-Comedy-Family   \n",
       "1        8844                      Jumanji  Adventure-Fantasy-Family   \n",
       "2       15602             Grumpier Old Men            Romance-Comedy   \n",
       "3       31357            Waiting to Exhale      Comedy-Drama-Romance   \n",
       "4       11862  Father of the Bride Part II                    Comedy   \n",
       "...       ...                          ...                       ...   \n",
       "44566  439050                       Subdue              Drama-Family   \n",
       "44567  111109          Century of Birthing                     Drama   \n",
       "44568   67758                     Betrayal     Action-Drama-Thriller   \n",
       "44569  227506             Satan Triumphant                        []   \n",
       "44570  461257                     Queerama                        []   \n",
       "\n",
       "           DirectorName  ProducerName original_language  \\\n",
       "0         John Lasseter           NaN                en   \n",
       "1          Joe Johnston           NaN                en   \n",
       "2         Howard Deutch           NaN                en   \n",
       "3       Forest Whitaker           NaN                en   \n",
       "4         Charles Shyer           NaN                en   \n",
       "...                 ...           ...               ...   \n",
       "44566  Hamid Nematollah           NaN                fa   \n",
       "44567          Lav Diaz           NaN                tl   \n",
       "44568    Mark L. Lester           NaN                en   \n",
       "44569  Yakov Protazanov           NaN                en   \n",
       "44570     Daisy Asquith           NaN                en   \n",
       "\n",
       "                                                overview  runtime  \\\n",
       "0      Led by Woody, Andy's toys live happily in his ...     81.0   \n",
       "1      When siblings Judy and Peter discover an encha...    104.0   \n",
       "2      A family wedding reignites the ancient feud be...    101.0   \n",
       "3      Cheated on, mistreated and stepped on, the wom...    127.0   \n",
       "4      Just when George Banks has recovered from his ...    106.0   \n",
       "...                                                  ...      ...   \n",
       "44566        Rising and falling between a man and woman.     90.0   \n",
       "44567  An artist struggles to finish his work while a...    360.0   \n",
       "44568  When one of her hits goes wrong, a professiona...     90.0   \n",
       "44569  In a small town live two brothers, one a minis...     87.0   \n",
       "44570  50 years after decriminalisation of homosexual...     75.0   \n",
       "\n",
       "                                                    crew  \n",
       "0      [{'credit_id': '52fe4284c3a36847f8024f49', 'de...  \n",
       "1      [{'credit_id': '52fe44bfc3a36847f80a7cd1', 'de...  \n",
       "2      [{'credit_id': '52fe466a9251416c75077a89', 'de...  \n",
       "3      [{'credit_id': '52fe44779251416c91011acb', 'de...  \n",
       "4      [{'credit_id': '52fe44959251416c75039ed7', 'de...  \n",
       "...                                                  ...  \n",
       "44566  [{'credit_id': '5894a97d925141426c00818c', 'de...  \n",
       "44567  [{'credit_id': '52fe4af1c3a36847f81e9b15', 'de...  \n",
       "44568  [{'credit_id': '52fe4776c3a368484e0c8387', 'de...  \n",
       "44569  [{'credit_id': '533bccebc3a36844cf0011a7', 'de...  \n",
       "44570  [{'credit_id': '593e676c92514105b702e68e', 'de...  \n",
       "\n",
       "[44571 rows x 9 columns]"
      ]
     },
     "execution_count": 136,
     "metadata": {},
     "output_type": "execute_result"
    }
   ],
   "source": [
    "#Check Out Formed DirectorName column\n",
    "movieData"
   ]
  },
  {
   "cell_type": "code",
   "execution_count": 137,
   "metadata": {},
   "outputs": [],
   "source": [
    "producerName = []\n",
    "breakPoint = 0\n",
    "for i in movieData['crew']:\n",
    "        dict_list = ast.literal_eval(i)\n",
    "        flag = 0\n",
    "        for j in range(len(dict_list)):\n",
    "            if dict_list[j]['job']==\"Producer\":\n",
    "                producerName.append(dict_list[j]['name'])\n",
    "                flag =1\n",
    "                break\n",
    "        if flag ==0:\n",
    "            producerName.append(None)"
   ]
  },
  {
   "cell_type": "code",
   "execution_count": 138,
   "metadata": {},
   "outputs": [
    {
     "data": {
      "text/plain": [
       "44571"
      ]
     },
     "execution_count": 138,
     "metadata": {},
     "output_type": "execute_result"
    }
   ],
   "source": [
    "len(producerName)"
   ]
  },
  {
   "cell_type": "code",
   "execution_count": 139,
   "metadata": {},
   "outputs": [],
   "source": [
    "movieData['ProducerName'] = producerName"
   ]
  },
  {
   "cell_type": "code",
   "execution_count": 140,
   "metadata": {},
   "outputs": [
    {
     "data": {
      "text/html": [
       "<div>\n",
       "<style scoped>\n",
       "    .dataframe tbody tr th:only-of-type {\n",
       "        vertical-align: middle;\n",
       "    }\n",
       "\n",
       "    .dataframe tbody tr th {\n",
       "        vertical-align: top;\n",
       "    }\n",
       "\n",
       "    .dataframe thead th {\n",
       "        text-align: right;\n",
       "    }\n",
       "</style>\n",
       "<table border=\"1\" class=\"dataframe\">\n",
       "  <thead>\n",
       "    <tr style=\"text-align: right;\">\n",
       "      <th></th>\n",
       "      <th>id</th>\n",
       "      <th>title</th>\n",
       "      <th>genres</th>\n",
       "      <th>DirectorName</th>\n",
       "      <th>ProducerName</th>\n",
       "      <th>original_language</th>\n",
       "      <th>overview</th>\n",
       "      <th>runtime</th>\n",
       "      <th>crew</th>\n",
       "    </tr>\n",
       "  </thead>\n",
       "  <tbody>\n",
       "    <tr>\n",
       "      <th>0</th>\n",
       "      <td>862</td>\n",
       "      <td>Toy Story</td>\n",
       "      <td>Animation-Comedy-Family</td>\n",
       "      <td>John Lasseter</td>\n",
       "      <td>Bonnie Arnold</td>\n",
       "      <td>en</td>\n",
       "      <td>Led by Woody, Andy's toys live happily in his ...</td>\n",
       "      <td>81.0</td>\n",
       "      <td>[{'credit_id': '52fe4284c3a36847f8024f49', 'de...</td>\n",
       "    </tr>\n",
       "    <tr>\n",
       "      <th>1</th>\n",
       "      <td>8844</td>\n",
       "      <td>Jumanji</td>\n",
       "      <td>Adventure-Fantasy-Family</td>\n",
       "      <td>Joe Johnston</td>\n",
       "      <td>Scott Kroopf</td>\n",
       "      <td>en</td>\n",
       "      <td>When siblings Judy and Peter discover an encha...</td>\n",
       "      <td>104.0</td>\n",
       "      <td>[{'credit_id': '52fe44bfc3a36847f80a7cd1', 'de...</td>\n",
       "    </tr>\n",
       "    <tr>\n",
       "      <th>2</th>\n",
       "      <td>15602</td>\n",
       "      <td>Grumpier Old Men</td>\n",
       "      <td>Romance-Comedy</td>\n",
       "      <td>Howard Deutch</td>\n",
       "      <td>None</td>\n",
       "      <td>en</td>\n",
       "      <td>A family wedding reignites the ancient feud be...</td>\n",
       "      <td>101.0</td>\n",
       "      <td>[{'credit_id': '52fe466a9251416c75077a89', 'de...</td>\n",
       "    </tr>\n",
       "    <tr>\n",
       "      <th>3</th>\n",
       "      <td>31357</td>\n",
       "      <td>Waiting to Exhale</td>\n",
       "      <td>Comedy-Drama-Romance</td>\n",
       "      <td>Forest Whitaker</td>\n",
       "      <td>Ronald Bass</td>\n",
       "      <td>en</td>\n",
       "      <td>Cheated on, mistreated and stepped on, the wom...</td>\n",
       "      <td>127.0</td>\n",
       "      <td>[{'credit_id': '52fe44779251416c91011acb', 'de...</td>\n",
       "    </tr>\n",
       "    <tr>\n",
       "      <th>4</th>\n",
       "      <td>11862</td>\n",
       "      <td>Father of the Bride Part II</td>\n",
       "      <td>Comedy</td>\n",
       "      <td>Charles Shyer</td>\n",
       "      <td>Nancy Meyers</td>\n",
       "      <td>en</td>\n",
       "      <td>Just when George Banks has recovered from his ...</td>\n",
       "      <td>106.0</td>\n",
       "      <td>[{'credit_id': '52fe44959251416c75039ed7', 'de...</td>\n",
       "    </tr>\n",
       "    <tr>\n",
       "      <th>...</th>\n",
       "      <td>...</td>\n",
       "      <td>...</td>\n",
       "      <td>...</td>\n",
       "      <td>...</td>\n",
       "      <td>...</td>\n",
       "      <td>...</td>\n",
       "      <td>...</td>\n",
       "      <td>...</td>\n",
       "      <td>...</td>\n",
       "    </tr>\n",
       "    <tr>\n",
       "      <th>44566</th>\n",
       "      <td>439050</td>\n",
       "      <td>Subdue</td>\n",
       "      <td>Drama-Family</td>\n",
       "      <td>Hamid Nematollah</td>\n",
       "      <td>Hamid Nematollah</td>\n",
       "      <td>fa</td>\n",
       "      <td>Rising and falling between a man and woman.</td>\n",
       "      <td>90.0</td>\n",
       "      <td>[{'credit_id': '5894a97d925141426c00818c', 'de...</td>\n",
       "    </tr>\n",
       "    <tr>\n",
       "      <th>44567</th>\n",
       "      <td>111109</td>\n",
       "      <td>Century of Birthing</td>\n",
       "      <td>Drama</td>\n",
       "      <td>Lav Diaz</td>\n",
       "      <td>None</td>\n",
       "      <td>tl</td>\n",
       "      <td>An artist struggles to finish his work while a...</td>\n",
       "      <td>360.0</td>\n",
       "      <td>[{'credit_id': '52fe4af1c3a36847f81e9b15', 'de...</td>\n",
       "    </tr>\n",
       "    <tr>\n",
       "      <th>44568</th>\n",
       "      <td>67758</td>\n",
       "      <td>Betrayal</td>\n",
       "      <td>Action-Drama-Thriller</td>\n",
       "      <td>Mark L. Lester</td>\n",
       "      <td>None</td>\n",
       "      <td>en</td>\n",
       "      <td>When one of her hits goes wrong, a professiona...</td>\n",
       "      <td>90.0</td>\n",
       "      <td>[{'credit_id': '52fe4776c3a368484e0c8387', 'de...</td>\n",
       "    </tr>\n",
       "    <tr>\n",
       "      <th>44569</th>\n",
       "      <td>227506</td>\n",
       "      <td>Satan Triumphant</td>\n",
       "      <td>[]</td>\n",
       "      <td>Yakov Protazanov</td>\n",
       "      <td>Joseph N. Ermolieff</td>\n",
       "      <td>en</td>\n",
       "      <td>In a small town live two brothers, one a minis...</td>\n",
       "      <td>87.0</td>\n",
       "      <td>[{'credit_id': '533bccebc3a36844cf0011a7', 'de...</td>\n",
       "    </tr>\n",
       "    <tr>\n",
       "      <th>44570</th>\n",
       "      <td>461257</td>\n",
       "      <td>Queerama</td>\n",
       "      <td>[]</td>\n",
       "      <td>Daisy Asquith</td>\n",
       "      <td>None</td>\n",
       "      <td>en</td>\n",
       "      <td>50 years after decriminalisation of homosexual...</td>\n",
       "      <td>75.0</td>\n",
       "      <td>[{'credit_id': '593e676c92514105b702e68e', 'de...</td>\n",
       "    </tr>\n",
       "  </tbody>\n",
       "</table>\n",
       "<p>44571 rows × 9 columns</p>\n",
       "</div>"
      ],
      "text/plain": [
       "           id                        title                    genres  \\\n",
       "0         862                    Toy Story   Animation-Comedy-Family   \n",
       "1        8844                      Jumanji  Adventure-Fantasy-Family   \n",
       "2       15602             Grumpier Old Men            Romance-Comedy   \n",
       "3       31357            Waiting to Exhale      Comedy-Drama-Romance   \n",
       "4       11862  Father of the Bride Part II                    Comedy   \n",
       "...       ...                          ...                       ...   \n",
       "44566  439050                       Subdue              Drama-Family   \n",
       "44567  111109          Century of Birthing                     Drama   \n",
       "44568   67758                     Betrayal     Action-Drama-Thriller   \n",
       "44569  227506             Satan Triumphant                        []   \n",
       "44570  461257                     Queerama                        []   \n",
       "\n",
       "           DirectorName         ProducerName original_language  \\\n",
       "0         John Lasseter        Bonnie Arnold                en   \n",
       "1          Joe Johnston         Scott Kroopf                en   \n",
       "2         Howard Deutch                 None                en   \n",
       "3       Forest Whitaker          Ronald Bass                en   \n",
       "4         Charles Shyer         Nancy Meyers                en   \n",
       "...                 ...                  ...               ...   \n",
       "44566  Hamid Nematollah     Hamid Nematollah                fa   \n",
       "44567          Lav Diaz                 None                tl   \n",
       "44568    Mark L. Lester                 None                en   \n",
       "44569  Yakov Protazanov  Joseph N. Ermolieff                en   \n",
       "44570     Daisy Asquith                 None                en   \n",
       "\n",
       "                                                overview  runtime  \\\n",
       "0      Led by Woody, Andy's toys live happily in his ...     81.0   \n",
       "1      When siblings Judy and Peter discover an encha...    104.0   \n",
       "2      A family wedding reignites the ancient feud be...    101.0   \n",
       "3      Cheated on, mistreated and stepped on, the wom...    127.0   \n",
       "4      Just when George Banks has recovered from his ...    106.0   \n",
       "...                                                  ...      ...   \n",
       "44566        Rising and falling between a man and woman.     90.0   \n",
       "44567  An artist struggles to finish his work while a...    360.0   \n",
       "44568  When one of her hits goes wrong, a professiona...     90.0   \n",
       "44569  In a small town live two brothers, one a minis...     87.0   \n",
       "44570  50 years after decriminalisation of homosexual...     75.0   \n",
       "\n",
       "                                                    crew  \n",
       "0      [{'credit_id': '52fe4284c3a36847f8024f49', 'de...  \n",
       "1      [{'credit_id': '52fe44bfc3a36847f80a7cd1', 'de...  \n",
       "2      [{'credit_id': '52fe466a9251416c75077a89', 'de...  \n",
       "3      [{'credit_id': '52fe44779251416c91011acb', 'de...  \n",
       "4      [{'credit_id': '52fe44959251416c75039ed7', 'de...  \n",
       "...                                                  ...  \n",
       "44566  [{'credit_id': '5894a97d925141426c00818c', 'de...  \n",
       "44567  [{'credit_id': '52fe4af1c3a36847f81e9b15', 'de...  \n",
       "44568  [{'credit_id': '52fe4776c3a368484e0c8387', 'de...  \n",
       "44569  [{'credit_id': '533bccebc3a36844cf0011a7', 'de...  \n",
       "44570  [{'credit_id': '593e676c92514105b702e68e', 'de...  \n",
       "\n",
       "[44571 rows x 9 columns]"
      ]
     },
     "execution_count": 140,
     "metadata": {},
     "output_type": "execute_result"
    }
   ],
   "source": [
    "#Check Out Formed ProducerName column\n",
    "movieData"
   ]
  },
  {
   "cell_type": "code",
   "execution_count": 141,
   "metadata": {},
   "outputs": [],
   "source": [
    "#Deleting non required Crew column\n",
    "movieData = movieData.drop(\"crew\", axis =1)"
   ]
  },
  {
   "cell_type": "code",
   "execution_count": 142,
   "metadata": {},
   "outputs": [
    {
     "data": {
      "text/plain": [
       "id                       0\n",
       "title                    0\n",
       "genres                   0\n",
       "DirectorName           803\n",
       "ProducerName         22718\n",
       "original_language        0\n",
       "overview                 0\n",
       "runtime                  0\n",
       "dtype: int64"
      ]
     },
     "execution_count": 142,
     "metadata": {},
     "output_type": "execute_result"
    }
   ],
   "source": [
    "movieData.isna().sum()"
   ]
  },
  {
   "cell_type": "code",
   "execution_count": 143,
   "metadata": {},
   "outputs": [],
   "source": [
    "movieData = movieData.dropna()"
   ]
  },
  {
   "cell_type": "code",
   "execution_count": 144,
   "metadata": {},
   "outputs": [
    {
     "data": {
      "text/plain": [
       "id                   0\n",
       "title                0\n",
       "genres               0\n",
       "DirectorName         0\n",
       "ProducerName         0\n",
       "original_language    0\n",
       "overview             0\n",
       "runtime              0\n",
       "dtype: int64"
      ]
     },
     "execution_count": 144,
     "metadata": {},
     "output_type": "execute_result"
    }
   ],
   "source": [
    "movieData.isna().sum()"
   ]
  },
  {
   "cell_type": "code",
   "execution_count": 145,
   "metadata": {},
   "outputs": [
    {
     "data": {
      "text/html": [
       "<div>\n",
       "<style scoped>\n",
       "    .dataframe tbody tr th:only-of-type {\n",
       "        vertical-align: middle;\n",
       "    }\n",
       "\n",
       "    .dataframe tbody tr th {\n",
       "        vertical-align: top;\n",
       "    }\n",
       "\n",
       "    .dataframe thead th {\n",
       "        text-align: right;\n",
       "    }\n",
       "</style>\n",
       "<table border=\"1\" class=\"dataframe\">\n",
       "  <thead>\n",
       "    <tr style=\"text-align: right;\">\n",
       "      <th></th>\n",
       "      <th>id</th>\n",
       "      <th>title</th>\n",
       "      <th>genres</th>\n",
       "      <th>DirectorName</th>\n",
       "      <th>ProducerName</th>\n",
       "      <th>original_language</th>\n",
       "      <th>overview</th>\n",
       "      <th>runtime</th>\n",
       "    </tr>\n",
       "  </thead>\n",
       "  <tbody>\n",
       "    <tr>\n",
       "      <th>0</th>\n",
       "      <td>862</td>\n",
       "      <td>Toy Story</td>\n",
       "      <td>Animation-Comedy-Family</td>\n",
       "      <td>John Lasseter</td>\n",
       "      <td>Bonnie Arnold</td>\n",
       "      <td>en</td>\n",
       "      <td>Led by Woody, Andy's toys live happily in his ...</td>\n",
       "      <td>81.0</td>\n",
       "    </tr>\n",
       "    <tr>\n",
       "      <th>1</th>\n",
       "      <td>8844</td>\n",
       "      <td>Jumanji</td>\n",
       "      <td>Adventure-Fantasy-Family</td>\n",
       "      <td>Joe Johnston</td>\n",
       "      <td>Scott Kroopf</td>\n",
       "      <td>en</td>\n",
       "      <td>When siblings Judy and Peter discover an encha...</td>\n",
       "      <td>104.0</td>\n",
       "    </tr>\n",
       "    <tr>\n",
       "      <th>3</th>\n",
       "      <td>31357</td>\n",
       "      <td>Waiting to Exhale</td>\n",
       "      <td>Comedy-Drama-Romance</td>\n",
       "      <td>Forest Whitaker</td>\n",
       "      <td>Ronald Bass</td>\n",
       "      <td>en</td>\n",
       "      <td>Cheated on, mistreated and stepped on, the wom...</td>\n",
       "      <td>127.0</td>\n",
       "    </tr>\n",
       "    <tr>\n",
       "      <th>4</th>\n",
       "      <td>11862</td>\n",
       "      <td>Father of the Bride Part II</td>\n",
       "      <td>Comedy</td>\n",
       "      <td>Charles Shyer</td>\n",
       "      <td>Nancy Meyers</td>\n",
       "      <td>en</td>\n",
       "      <td>Just when George Banks has recovered from his ...</td>\n",
       "      <td>106.0</td>\n",
       "    </tr>\n",
       "    <tr>\n",
       "      <th>5</th>\n",
       "      <td>949</td>\n",
       "      <td>Heat</td>\n",
       "      <td>Action-Crime-Drama-Thriller</td>\n",
       "      <td>Michael Mann</td>\n",
       "      <td>Art Linson</td>\n",
       "      <td>en</td>\n",
       "      <td>Obsessive master thief, Neil McCauley leads a ...</td>\n",
       "      <td>170.0</td>\n",
       "    </tr>\n",
       "    <tr>\n",
       "      <th>...</th>\n",
       "      <td>...</td>\n",
       "      <td>...</td>\n",
       "      <td>...</td>\n",
       "      <td>...</td>\n",
       "      <td>...</td>\n",
       "      <td>...</td>\n",
       "      <td>...</td>\n",
       "      <td>...</td>\n",
       "    </tr>\n",
       "    <tr>\n",
       "      <th>44562</th>\n",
       "      <td>390959</td>\n",
       "      <td>Shadow of the Blair Witch</td>\n",
       "      <td>Mystery-Horror</td>\n",
       "      <td>Ben Rock</td>\n",
       "      <td>Jay Bogdanowitsch</td>\n",
       "      <td>en</td>\n",
       "      <td>In this true-crime documentary, we delve into ...</td>\n",
       "      <td>45.0</td>\n",
       "    </tr>\n",
       "    <tr>\n",
       "      <th>44564</th>\n",
       "      <td>222848</td>\n",
       "      <td>Caged Heat 3000</td>\n",
       "      <td>Science Fiction</td>\n",
       "      <td>Aaron Osborne</td>\n",
       "      <td>Mike Upton</td>\n",
       "      <td>en</td>\n",
       "      <td>It's the year 3000 AD. The world's most danger...</td>\n",
       "      <td>85.0</td>\n",
       "    </tr>\n",
       "    <tr>\n",
       "      <th>44565</th>\n",
       "      <td>30840</td>\n",
       "      <td>Robin Hood</td>\n",
       "      <td>Drama-Action-Romance</td>\n",
       "      <td>John Irvin</td>\n",
       "      <td>Sarah Radclyffe</td>\n",
       "      <td>en</td>\n",
       "      <td>Yet another version of the classic epic, with ...</td>\n",
       "      <td>104.0</td>\n",
       "    </tr>\n",
       "    <tr>\n",
       "      <th>44566</th>\n",
       "      <td>439050</td>\n",
       "      <td>Subdue</td>\n",
       "      <td>Drama-Family</td>\n",
       "      <td>Hamid Nematollah</td>\n",
       "      <td>Hamid Nematollah</td>\n",
       "      <td>fa</td>\n",
       "      <td>Rising and falling between a man and woman.</td>\n",
       "      <td>90.0</td>\n",
       "    </tr>\n",
       "    <tr>\n",
       "      <th>44569</th>\n",
       "      <td>227506</td>\n",
       "      <td>Satan Triumphant</td>\n",
       "      <td>[]</td>\n",
       "      <td>Yakov Protazanov</td>\n",
       "      <td>Joseph N. Ermolieff</td>\n",
       "      <td>en</td>\n",
       "      <td>In a small town live two brothers, one a minis...</td>\n",
       "      <td>87.0</td>\n",
       "    </tr>\n",
       "  </tbody>\n",
       "</table>\n",
       "<p>21825 rows × 8 columns</p>\n",
       "</div>"
      ],
      "text/plain": [
       "           id                        title                       genres  \\\n",
       "0         862                    Toy Story      Animation-Comedy-Family   \n",
       "1        8844                      Jumanji     Adventure-Fantasy-Family   \n",
       "3       31357            Waiting to Exhale         Comedy-Drama-Romance   \n",
       "4       11862  Father of the Bride Part II                       Comedy   \n",
       "5         949                         Heat  Action-Crime-Drama-Thriller   \n",
       "...       ...                          ...                          ...   \n",
       "44562  390959    Shadow of the Blair Witch               Mystery-Horror   \n",
       "44564  222848              Caged Heat 3000              Science Fiction   \n",
       "44565   30840                   Robin Hood         Drama-Action-Romance   \n",
       "44566  439050                       Subdue                 Drama-Family   \n",
       "44569  227506             Satan Triumphant                           []   \n",
       "\n",
       "           DirectorName         ProducerName original_language  \\\n",
       "0         John Lasseter        Bonnie Arnold                en   \n",
       "1          Joe Johnston         Scott Kroopf                en   \n",
       "3       Forest Whitaker          Ronald Bass                en   \n",
       "4         Charles Shyer         Nancy Meyers                en   \n",
       "5          Michael Mann           Art Linson                en   \n",
       "...                 ...                  ...               ...   \n",
       "44562          Ben Rock    Jay Bogdanowitsch                en   \n",
       "44564     Aaron Osborne           Mike Upton                en   \n",
       "44565        John Irvin      Sarah Radclyffe                en   \n",
       "44566  Hamid Nematollah     Hamid Nematollah                fa   \n",
       "44569  Yakov Protazanov  Joseph N. Ermolieff                en   \n",
       "\n",
       "                                                overview  runtime  \n",
       "0      Led by Woody, Andy's toys live happily in his ...     81.0  \n",
       "1      When siblings Judy and Peter discover an encha...    104.0  \n",
       "3      Cheated on, mistreated and stepped on, the wom...    127.0  \n",
       "4      Just when George Banks has recovered from his ...    106.0  \n",
       "5      Obsessive master thief, Neil McCauley leads a ...    170.0  \n",
       "...                                                  ...      ...  \n",
       "44562  In this true-crime documentary, we delve into ...     45.0  \n",
       "44564  It's the year 3000 AD. The world's most danger...     85.0  \n",
       "44565  Yet another version of the classic epic, with ...    104.0  \n",
       "44566        Rising and falling between a man and woman.     90.0  \n",
       "44569  In a small town live two brothers, one a minis...     87.0  \n",
       "\n",
       "[21825 rows x 8 columns]"
      ]
     },
     "execution_count": 145,
     "metadata": {},
     "output_type": "execute_result"
    }
   ],
   "source": [
    "movieData"
   ]
  },
  {
   "cell_type": "code",
   "execution_count": 146,
   "metadata": {},
   "outputs": [],
   "source": [
    "movieData.columns = ['MovieID', 'MovieName', 'Genre', 'DirectorName', 'ProducerName','Language',  'Story', 'Duration']"
   ]
  },
  {
   "cell_type": "code",
   "execution_count": 147,
   "metadata": {},
   "outputs": [
    {
     "data": {
      "text/html": [
       "<div>\n",
       "<style scoped>\n",
       "    .dataframe tbody tr th:only-of-type {\n",
       "        vertical-align: middle;\n",
       "    }\n",
       "\n",
       "    .dataframe tbody tr th {\n",
       "        vertical-align: top;\n",
       "    }\n",
       "\n",
       "    .dataframe thead th {\n",
       "        text-align: right;\n",
       "    }\n",
       "</style>\n",
       "<table border=\"1\" class=\"dataframe\">\n",
       "  <thead>\n",
       "    <tr style=\"text-align: right;\">\n",
       "      <th></th>\n",
       "      <th>MovieID</th>\n",
       "      <th>MovieName</th>\n",
       "      <th>Genre</th>\n",
       "      <th>DirectorName</th>\n",
       "      <th>ProducerName</th>\n",
       "      <th>Language</th>\n",
       "      <th>Story</th>\n",
       "      <th>Duration</th>\n",
       "    </tr>\n",
       "  </thead>\n",
       "  <tbody>\n",
       "    <tr>\n",
       "      <th>0</th>\n",
       "      <td>862</td>\n",
       "      <td>Toy Story</td>\n",
       "      <td>Animation-Comedy-Family</td>\n",
       "      <td>John Lasseter</td>\n",
       "      <td>Bonnie Arnold</td>\n",
       "      <td>en</td>\n",
       "      <td>Led by Woody, Andy's toys live happily in his ...</td>\n",
       "      <td>81.0</td>\n",
       "    </tr>\n",
       "    <tr>\n",
       "      <th>1</th>\n",
       "      <td>8844</td>\n",
       "      <td>Jumanji</td>\n",
       "      <td>Adventure-Fantasy-Family</td>\n",
       "      <td>Joe Johnston</td>\n",
       "      <td>Scott Kroopf</td>\n",
       "      <td>en</td>\n",
       "      <td>When siblings Judy and Peter discover an encha...</td>\n",
       "      <td>104.0</td>\n",
       "    </tr>\n",
       "    <tr>\n",
       "      <th>3</th>\n",
       "      <td>31357</td>\n",
       "      <td>Waiting to Exhale</td>\n",
       "      <td>Comedy-Drama-Romance</td>\n",
       "      <td>Forest Whitaker</td>\n",
       "      <td>Ronald Bass</td>\n",
       "      <td>en</td>\n",
       "      <td>Cheated on, mistreated and stepped on, the wom...</td>\n",
       "      <td>127.0</td>\n",
       "    </tr>\n",
       "    <tr>\n",
       "      <th>4</th>\n",
       "      <td>11862</td>\n",
       "      <td>Father of the Bride Part II</td>\n",
       "      <td>Comedy</td>\n",
       "      <td>Charles Shyer</td>\n",
       "      <td>Nancy Meyers</td>\n",
       "      <td>en</td>\n",
       "      <td>Just when George Banks has recovered from his ...</td>\n",
       "      <td>106.0</td>\n",
       "    </tr>\n",
       "    <tr>\n",
       "      <th>5</th>\n",
       "      <td>949</td>\n",
       "      <td>Heat</td>\n",
       "      <td>Action-Crime-Drama-Thriller</td>\n",
       "      <td>Michael Mann</td>\n",
       "      <td>Art Linson</td>\n",
       "      <td>en</td>\n",
       "      <td>Obsessive master thief, Neil McCauley leads a ...</td>\n",
       "      <td>170.0</td>\n",
       "    </tr>\n",
       "    <tr>\n",
       "      <th>...</th>\n",
       "      <td>...</td>\n",
       "      <td>...</td>\n",
       "      <td>...</td>\n",
       "      <td>...</td>\n",
       "      <td>...</td>\n",
       "      <td>...</td>\n",
       "      <td>...</td>\n",
       "      <td>...</td>\n",
       "    </tr>\n",
       "    <tr>\n",
       "      <th>44562</th>\n",
       "      <td>390959</td>\n",
       "      <td>Shadow of the Blair Witch</td>\n",
       "      <td>Mystery-Horror</td>\n",
       "      <td>Ben Rock</td>\n",
       "      <td>Jay Bogdanowitsch</td>\n",
       "      <td>en</td>\n",
       "      <td>In this true-crime documentary, we delve into ...</td>\n",
       "      <td>45.0</td>\n",
       "    </tr>\n",
       "    <tr>\n",
       "      <th>44564</th>\n",
       "      <td>222848</td>\n",
       "      <td>Caged Heat 3000</td>\n",
       "      <td>Science Fiction</td>\n",
       "      <td>Aaron Osborne</td>\n",
       "      <td>Mike Upton</td>\n",
       "      <td>en</td>\n",
       "      <td>It's the year 3000 AD. The world's most danger...</td>\n",
       "      <td>85.0</td>\n",
       "    </tr>\n",
       "    <tr>\n",
       "      <th>44565</th>\n",
       "      <td>30840</td>\n",
       "      <td>Robin Hood</td>\n",
       "      <td>Drama-Action-Romance</td>\n",
       "      <td>John Irvin</td>\n",
       "      <td>Sarah Radclyffe</td>\n",
       "      <td>en</td>\n",
       "      <td>Yet another version of the classic epic, with ...</td>\n",
       "      <td>104.0</td>\n",
       "    </tr>\n",
       "    <tr>\n",
       "      <th>44566</th>\n",
       "      <td>439050</td>\n",
       "      <td>Subdue</td>\n",
       "      <td>Drama-Family</td>\n",
       "      <td>Hamid Nematollah</td>\n",
       "      <td>Hamid Nematollah</td>\n",
       "      <td>fa</td>\n",
       "      <td>Rising and falling between a man and woman.</td>\n",
       "      <td>90.0</td>\n",
       "    </tr>\n",
       "    <tr>\n",
       "      <th>44569</th>\n",
       "      <td>227506</td>\n",
       "      <td>Satan Triumphant</td>\n",
       "      <td>[]</td>\n",
       "      <td>Yakov Protazanov</td>\n",
       "      <td>Joseph N. Ermolieff</td>\n",
       "      <td>en</td>\n",
       "      <td>In a small town live two brothers, one a minis...</td>\n",
       "      <td>87.0</td>\n",
       "    </tr>\n",
       "  </tbody>\n",
       "</table>\n",
       "<p>21825 rows × 8 columns</p>\n",
       "</div>"
      ],
      "text/plain": [
       "       MovieID                    MovieName                        Genre  \\\n",
       "0          862                    Toy Story      Animation-Comedy-Family   \n",
       "1         8844                      Jumanji     Adventure-Fantasy-Family   \n",
       "3        31357            Waiting to Exhale         Comedy-Drama-Romance   \n",
       "4        11862  Father of the Bride Part II                       Comedy   \n",
       "5          949                         Heat  Action-Crime-Drama-Thriller   \n",
       "...        ...                          ...                          ...   \n",
       "44562   390959    Shadow of the Blair Witch               Mystery-Horror   \n",
       "44564   222848              Caged Heat 3000              Science Fiction   \n",
       "44565    30840                   Robin Hood         Drama-Action-Romance   \n",
       "44566   439050                       Subdue                 Drama-Family   \n",
       "44569   227506             Satan Triumphant                           []   \n",
       "\n",
       "           DirectorName         ProducerName Language  \\\n",
       "0         John Lasseter        Bonnie Arnold       en   \n",
       "1          Joe Johnston         Scott Kroopf       en   \n",
       "3       Forest Whitaker          Ronald Bass       en   \n",
       "4         Charles Shyer         Nancy Meyers       en   \n",
       "5          Michael Mann           Art Linson       en   \n",
       "...                 ...                  ...      ...   \n",
       "44562          Ben Rock    Jay Bogdanowitsch       en   \n",
       "44564     Aaron Osborne           Mike Upton       en   \n",
       "44565        John Irvin      Sarah Radclyffe       en   \n",
       "44566  Hamid Nematollah     Hamid Nematollah       fa   \n",
       "44569  Yakov Protazanov  Joseph N. Ermolieff       en   \n",
       "\n",
       "                                                   Story  Duration  \n",
       "0      Led by Woody, Andy's toys live happily in his ...      81.0  \n",
       "1      When siblings Judy and Peter discover an encha...     104.0  \n",
       "3      Cheated on, mistreated and stepped on, the wom...     127.0  \n",
       "4      Just when George Banks has recovered from his ...     106.0  \n",
       "5      Obsessive master thief, Neil McCauley leads a ...     170.0  \n",
       "...                                                  ...       ...  \n",
       "44562  In this true-crime documentary, we delve into ...      45.0  \n",
       "44564  It's the year 3000 AD. The world's most danger...      85.0  \n",
       "44565  Yet another version of the classic epic, with ...     104.0  \n",
       "44566        Rising and falling between a man and woman.      90.0  \n",
       "44569  In a small town live two brothers, one a minis...      87.0  \n",
       "\n",
       "[21825 rows x 8 columns]"
      ]
     },
     "execution_count": 147,
     "metadata": {},
     "output_type": "execute_result"
    }
   ],
   "source": [
    "movieData"
   ]
  },
  {
   "attachments": {},
   "cell_type": "markdown",
   "metadata": {},
   "source": [
    "Data refactoring for useless entries, duplicates, etc"
   ]
  },
  {
   "cell_type": "code",
   "execution_count": 148,
   "metadata": {},
   "outputs": [],
   "source": [
    "#Removing genres == []"
   ]
  },
  {
   "cell_type": "code",
   "execution_count": 149,
   "metadata": {},
   "outputs": [
    {
     "name": "stdout",
     "output_type": "stream",
     "text": [
      "<class 'pandas.core.frame.DataFrame'>\n",
      "Int64Index: 21825 entries, 0 to 44569\n",
      "Data columns (total 8 columns):\n",
      " #   Column        Non-Null Count  Dtype  \n",
      "---  ------        --------------  -----  \n",
      " 0   MovieID       21825 non-null  int64  \n",
      " 1   MovieName     21825 non-null  object \n",
      " 2   Genre         21825 non-null  object \n",
      " 3   DirectorName  21825 non-null  object \n",
      " 4   ProducerName  21825 non-null  object \n",
      " 5   Language      21825 non-null  object \n",
      " 6   Story         21825 non-null  object \n",
      " 7   Duration      21825 non-null  float64\n",
      "dtypes: float64(1), int64(1), object(6)\n",
      "memory usage: 1.5+ MB\n"
     ]
    }
   ],
   "source": [
    "movieData.info()"
   ]
  },
  {
   "cell_type": "code",
   "execution_count": 150,
   "metadata": {},
   "outputs": [],
   "source": [
    "emptyGenres = []\n",
    "for i in range(len(movieData['Genre'])):\n",
    "        movieData = movieData[movieData[\"Genre\"]!='[]']"
   ]
  },
  {
   "cell_type": "code",
   "execution_count": 151,
   "metadata": {},
   "outputs": [
    {
     "data": {
      "text/plain": [
       "(21572, 8)"
      ]
     },
     "execution_count": 151,
     "metadata": {},
     "output_type": "execute_result"
    }
   ],
   "source": [
    "movieData.shape"
   ]
  },
  {
   "cell_type": "code",
   "execution_count": 152,
   "metadata": {},
   "outputs": [
    {
     "data": {
      "text/plain": [
       "MovieID         21524\n",
       "MovieName       20459\n",
       "Genre            2806\n",
       "DirectorName     9264\n",
       "ProducerName    10309\n",
       "Language           73\n",
       "Story           21455\n",
       "Duration          276\n",
       "dtype: int64"
      ]
     },
     "execution_count": 152,
     "metadata": {},
     "output_type": "execute_result"
    }
   ],
   "source": [
    "movieData.nunique()"
   ]
  },
  {
   "cell_type": "code",
   "execution_count": 153,
   "metadata": {},
   "outputs": [],
   "source": [
    "movieData.drop_duplicates(subset=\"MovieID\", inplace = True)\n",
    "movieData.drop_duplicates(subset=\"MovieName\", inplace = True)\n",
    "movieData.drop_duplicates(subset=\"Story\", inplace = True)"
   ]
  },
  {
   "cell_type": "code",
   "execution_count": 154,
   "metadata": {},
   "outputs": [
    {
     "data": {
      "text/plain": [
       "MovieID         20394\n",
       "MovieName       20394\n",
       "Genre            2690\n",
       "DirectorName     8953\n",
       "ProducerName     9962\n",
       "Language           73\n",
       "Story           20394\n",
       "Duration          271\n",
       "dtype: int64"
      ]
     },
     "execution_count": 154,
     "metadata": {},
     "output_type": "execute_result"
    }
   ],
   "source": [
    "movieData.nunique()"
   ]
  },
  {
   "cell_type": "code",
   "execution_count": 155,
   "metadata": {},
   "outputs": [
    {
     "data": {
      "text/plain": [
       "(20394, 8)"
      ]
     },
     "execution_count": 155,
     "metadata": {},
     "output_type": "execute_result"
    }
   ],
   "source": [
    "movieData.shape"
   ]
  },
  {
   "cell_type": "code",
   "execution_count": 156,
   "metadata": {},
   "outputs": [],
   "source": [
    "movieData.to_csv(\"Movie_Data.csv\", index=False)"
   ]
  },
  {
   "cell_type": "code",
   "execution_count": 164,
   "metadata": {},
   "outputs": [],
   "source": [
    "del movieData"
   ]
  },
  {
   "cell_type": "code",
   "execution_count": 158,
   "metadata": {},
   "outputs": [],
   "source": [
    "finalMovieData = pd.read_csv(\"Movie_Data.csv\")"
   ]
  },
  {
   "cell_type": "code",
   "execution_count": 159,
   "metadata": {},
   "outputs": [
    {
     "name": "stdout",
     "output_type": "stream",
     "text": [
      "<class 'pandas.core.frame.DataFrame'>\n",
      "RangeIndex: 20394 entries, 0 to 20393\n",
      "Data columns (total 8 columns):\n",
      " #   Column        Non-Null Count  Dtype  \n",
      "---  ------        --------------  -----  \n",
      " 0   MovieID       20394 non-null  int64  \n",
      " 1   MovieName     20394 non-null  object \n",
      " 2   Genre         20394 non-null  object \n",
      " 3   DirectorName  20394 non-null  object \n",
      " 4   ProducerName  20394 non-null  object \n",
      " 5   Language      20394 non-null  object \n",
      " 6   Story         20394 non-null  object \n",
      " 7   Duration      20394 non-null  float64\n",
      "dtypes: float64(1), int64(1), object(6)\n",
      "memory usage: 1.2+ MB\n"
     ]
    }
   ],
   "source": [
    "finalMovieData.info()"
   ]
  },
  {
   "cell_type": "code",
   "execution_count": 160,
   "metadata": {},
   "outputs": [
    {
     "data": {
      "text/plain": [
       "(20394, 8)"
      ]
     },
     "execution_count": 160,
     "metadata": {},
     "output_type": "execute_result"
    }
   ],
   "source": [
    "finalMovieData.shape"
   ]
  },
  {
   "cell_type": "code",
   "execution_count": 161,
   "metadata": {},
   "outputs": [
    {
     "data": {
      "text/plain": [
       "MovieID         20394\n",
       "MovieName       20394\n",
       "Genre            2690\n",
       "DirectorName     8953\n",
       "ProducerName     9962\n",
       "Language           73\n",
       "Story           20394\n",
       "Duration          271\n",
       "dtype: int64"
      ]
     },
     "execution_count": 161,
     "metadata": {},
     "output_type": "execute_result"
    }
   ],
   "source": [
    "finalMovieData.nunique()"
   ]
  },
  {
   "cell_type": "code",
   "execution_count": 163,
   "metadata": {},
   "outputs": [],
   "source": [
    "del finalMovieData"
   ]
  },
  {
   "cell_type": "code",
   "execution_count": null,
   "metadata": {},
   "outputs": [],
   "source": []
  }
 ],
 "metadata": {
  "kernelspec": {
   "display_name": "Python 3",
   "language": "python",
   "name": "python3"
  },
  "language_info": {
   "codemirror_mode": {
    "name": "ipython",
    "version": 3
   },
   "file_extension": ".py",
   "mimetype": "text/x-python",
   "name": "python",
   "nbconvert_exporter": "python",
   "pygments_lexer": "ipython3",
   "version": "3.10.1"
  },
  "orig_nbformat": 4,
  "vscode": {
   "interpreter": {
    "hash": "369f2c481f4da34e4445cda3fffd2e751bd1c4d706f27375911949ba6bb62e1c"
   }
  }
 },
 "nbformat": 4,
 "nbformat_minor": 2
}
